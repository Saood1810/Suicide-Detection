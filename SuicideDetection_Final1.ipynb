{
  "cells": [
    {
      "cell_type": "markdown",
      "metadata": {
        "id": "sPm5lfx9--MS"
      },
      "source": [
        "Package Imports"
      ]
    },
    {
      "cell_type": "code",
      "execution_count": 1,
      "metadata": {
        "id": "tX_DfZRT-wC-",
        "colab": {
          "base_uri": "https://localhost:8080/"
        },
        "outputId": "3b9bce74-3caa-4c27-e78e-baed859ee4f7"
      },
      "outputs": [
        {
          "output_type": "stream",
          "name": "stdout",
          "text": [
            "Collecting wordninja\n",
            "  Downloading wordninja-2.0.0.tar.gz (541 kB)\n",
            "\u001b[2K     \u001b[90m━━━━━━━━━━━━━━━━━━━━━━━━━━━━━━━━━━━━━━━━\u001b[0m \u001b[32m541.6/541.6 kB\u001b[0m \u001b[31m3.1 MB/s\u001b[0m eta \u001b[36m0:00:00\u001b[0m\n",
            "\u001b[?25h  Preparing metadata (setup.py) ... \u001b[?25l\u001b[?25hdone\n",
            "Building wheels for collected packages: wordninja\n",
            "  Building wheel for wordninja (setup.py) ... \u001b[?25l\u001b[?25hdone\n",
            "  Created wheel for wordninja: filename=wordninja-2.0.0-py3-none-any.whl size=541530 sha256=a727ab4fc49a33b2b28ddd05a132021f4c9ca785e3fe4bc4cfcd1cdb784ddb35\n",
            "  Stored in directory: /root/.cache/pip/wheels/aa/44/3a/f2a5c1859b8b541ded969b4cd12d0a58897f12408f4f51e084\n",
            "Successfully built wordninja\n",
            "Installing collected packages: wordninja\n",
            "Successfully installed wordninja-2.0.0\n"
          ]
        }
      ],
      "source": [
        "#Muhammad Sa'ood Shah 221021204 and Yurvan Ramjan\n",
        "\n",
        "#General\n",
        "import re\n",
        "import pandas as pd\n",
        "import numpy as np\n",
        "import tensorflow as tf\n",
        "import math\n",
        "import nltk\n",
        "import keras\n",
        "#Preprocessing\n",
        "!pip install wordninja\n",
        "from bs4 import BeautifulSoup\n",
        "import wordninja\n",
        "import matplotlib.pyplot as plt\n",
        "import seaborn as sns\n",
        "#Training Models\n",
        "from sklearn.preprocessing import LabelEncoder\n",
        "from sklearn.model_selection import train_test_split\n",
        "from keras.preprocessing.text import Tokenizer\n",
        "from keras.preprocessing.sequence import pad_sequences\n",
        "from keras.layers import Bidirectional, LSTM,Embedding\n",
        "from keras.models import Sequential\n",
        "from keras.layers import  Conv1D, MaxPooling1D, LSTM, Dense, Dropout, Flatten,BatchNormalization\n",
        "from keras.callbacks import Callback\n",
        "from keras.callbacks import ModelCheckpoint, EarlyStopping, ReduceLROnPlateau\n",
        "from keras import regularizers\n",
        "\n",
        "\n",
        "#Evalation\n",
        "from keras.models import load_model\n",
        "from sklearn.metrics import classification_report\n",
        "from sklearn.metrics import accuracy_score\n",
        "from sklearn.metrics import recall_score, precision_score, f1_score, accuracy_score\n",
        "from sklearn.metrics import confusion_matrix\n",
        "import matplotlib.pyplot as plt\n",
        "from matplotlib.colors import ListedColormap\n",
        "from matplotlib import colormaps\n",
        "\n"
      ]
    },
    {
      "cell_type": "markdown",
      "metadata": {
        "id": "-8RM5KU3_AfP"
      },
      "source": [
        "Load Dataset"
      ]
    },
    {
      "cell_type": "code",
      "execution_count": 2,
      "metadata": {
        "colab": {
          "base_uri": "https://localhost:8080/",
          "height": 241
        },
        "id": "p7gKe1KD_CXY",
        "outputId": "4810edaf-bd9d-4b8c-861b-623d1c514e17"
      },
      "outputs": [
        {
          "output_type": "stream",
          "name": "stdout",
          "text": [
            "Mounted at /content/drive\n",
            "Index(['Unnamed: 0', 'text', 'class'], dtype='object')\n"
          ]
        },
        {
          "output_type": "execute_result",
          "data": {
            "text/plain": [
              "   Unnamed: 0                                               text        class\n",
              "0           2  Ex Wife Threatening SuicideRecently I left my ...      suicide\n",
              "1           3  Am I weird I don't get affected by compliments...  non-suicide\n",
              "2           4  Finally 2020 is almost over... So I can never ...  non-suicide\n",
              "3           8          i need helpjust help me im crying so hard      suicide\n",
              "4           9  I’m so lostHello, my name is Adam (16) and I’v...      suicide"
            ],
            "text/html": [
              "\n",
              "  <div id=\"df-9840a338-d6c5-4d40-9fa2-7eb2507eacce\" class=\"colab-df-container\">\n",
              "    <div>\n",
              "<style scoped>\n",
              "    .dataframe tbody tr th:only-of-type {\n",
              "        vertical-align: middle;\n",
              "    }\n",
              "\n",
              "    .dataframe tbody tr th {\n",
              "        vertical-align: top;\n",
              "    }\n",
              "\n",
              "    .dataframe thead th {\n",
              "        text-align: right;\n",
              "    }\n",
              "</style>\n",
              "<table border=\"1\" class=\"dataframe\">\n",
              "  <thead>\n",
              "    <tr style=\"text-align: right;\">\n",
              "      <th></th>\n",
              "      <th>Unnamed: 0</th>\n",
              "      <th>text</th>\n",
              "      <th>class</th>\n",
              "    </tr>\n",
              "  </thead>\n",
              "  <tbody>\n",
              "    <tr>\n",
              "      <th>0</th>\n",
              "      <td>2</td>\n",
              "      <td>Ex Wife Threatening SuicideRecently I left my ...</td>\n",
              "      <td>suicide</td>\n",
              "    </tr>\n",
              "    <tr>\n",
              "      <th>1</th>\n",
              "      <td>3</td>\n",
              "      <td>Am I weird I don't get affected by compliments...</td>\n",
              "      <td>non-suicide</td>\n",
              "    </tr>\n",
              "    <tr>\n",
              "      <th>2</th>\n",
              "      <td>4</td>\n",
              "      <td>Finally 2020 is almost over... So I can never ...</td>\n",
              "      <td>non-suicide</td>\n",
              "    </tr>\n",
              "    <tr>\n",
              "      <th>3</th>\n",
              "      <td>8</td>\n",
              "      <td>i need helpjust help me im crying so hard</td>\n",
              "      <td>suicide</td>\n",
              "    </tr>\n",
              "    <tr>\n",
              "      <th>4</th>\n",
              "      <td>9</td>\n",
              "      <td>I’m so lostHello, my name is Adam (16) and I’v...</td>\n",
              "      <td>suicide</td>\n",
              "    </tr>\n",
              "  </tbody>\n",
              "</table>\n",
              "</div>\n",
              "    <div class=\"colab-df-buttons\">\n",
              "\n",
              "  <div class=\"colab-df-container\">\n",
              "    <button class=\"colab-df-convert\" onclick=\"convertToInteractive('df-9840a338-d6c5-4d40-9fa2-7eb2507eacce')\"\n",
              "            title=\"Convert this dataframe to an interactive table.\"\n",
              "            style=\"display:none;\">\n",
              "\n",
              "  <svg xmlns=\"http://www.w3.org/2000/svg\" height=\"24px\" viewBox=\"0 -960 960 960\">\n",
              "    <path d=\"M120-120v-720h720v720H120Zm60-500h600v-160H180v160Zm220 220h160v-160H400v160Zm0 220h160v-160H400v160ZM180-400h160v-160H180v160Zm440 0h160v-160H620v160ZM180-180h160v-160H180v160Zm440 0h160v-160H620v160Z\"/>\n",
              "  </svg>\n",
              "    </button>\n",
              "\n",
              "  <style>\n",
              "    .colab-df-container {\n",
              "      display:flex;\n",
              "      gap: 12px;\n",
              "    }\n",
              "\n",
              "    .colab-df-convert {\n",
              "      background-color: #E8F0FE;\n",
              "      border: none;\n",
              "      border-radius: 50%;\n",
              "      cursor: pointer;\n",
              "      display: none;\n",
              "      fill: #1967D2;\n",
              "      height: 32px;\n",
              "      padding: 0 0 0 0;\n",
              "      width: 32px;\n",
              "    }\n",
              "\n",
              "    .colab-df-convert:hover {\n",
              "      background-color: #E2EBFA;\n",
              "      box-shadow: 0px 1px 2px rgba(60, 64, 67, 0.3), 0px 1px 3px 1px rgba(60, 64, 67, 0.15);\n",
              "      fill: #174EA6;\n",
              "    }\n",
              "\n",
              "    .colab-df-buttons div {\n",
              "      margin-bottom: 4px;\n",
              "    }\n",
              "\n",
              "    [theme=dark] .colab-df-convert {\n",
              "      background-color: #3B4455;\n",
              "      fill: #D2E3FC;\n",
              "    }\n",
              "\n",
              "    [theme=dark] .colab-df-convert:hover {\n",
              "      background-color: #434B5C;\n",
              "      box-shadow: 0px 1px 3px 1px rgba(0, 0, 0, 0.15);\n",
              "      filter: drop-shadow(0px 1px 2px rgba(0, 0, 0, 0.3));\n",
              "      fill: #FFFFFF;\n",
              "    }\n",
              "  </style>\n",
              "\n",
              "    <script>\n",
              "      const buttonEl =\n",
              "        document.querySelector('#df-9840a338-d6c5-4d40-9fa2-7eb2507eacce button.colab-df-convert');\n",
              "      buttonEl.style.display =\n",
              "        google.colab.kernel.accessAllowed ? 'block' : 'none';\n",
              "\n",
              "      async function convertToInteractive(key) {\n",
              "        const element = document.querySelector('#df-9840a338-d6c5-4d40-9fa2-7eb2507eacce');\n",
              "        const dataTable =\n",
              "          await google.colab.kernel.invokeFunction('convertToInteractive',\n",
              "                                                    [key], {});\n",
              "        if (!dataTable) return;\n",
              "\n",
              "        const docLinkHtml = 'Like what you see? Visit the ' +\n",
              "          '<a target=\"_blank\" href=https://colab.research.google.com/notebooks/data_table.ipynb>data table notebook</a>'\n",
              "          + ' to learn more about interactive tables.';\n",
              "        element.innerHTML = '';\n",
              "        dataTable['output_type'] = 'display_data';\n",
              "        await google.colab.output.renderOutput(dataTable, element);\n",
              "        const docLink = document.createElement('div');\n",
              "        docLink.innerHTML = docLinkHtml;\n",
              "        element.appendChild(docLink);\n",
              "      }\n",
              "    </script>\n",
              "  </div>\n",
              "\n",
              "\n",
              "<div id=\"df-c07ac61e-770c-4eb3-a7af-890adca9940e\">\n",
              "  <button class=\"colab-df-quickchart\" onclick=\"quickchart('df-c07ac61e-770c-4eb3-a7af-890adca9940e')\"\n",
              "            title=\"Suggest charts\"\n",
              "            style=\"display:none;\">\n",
              "\n",
              "<svg xmlns=\"http://www.w3.org/2000/svg\" height=\"24px\"viewBox=\"0 0 24 24\"\n",
              "     width=\"24px\">\n",
              "    <g>\n",
              "        <path d=\"M19 3H5c-1.1 0-2 .9-2 2v14c0 1.1.9 2 2 2h14c1.1 0 2-.9 2-2V5c0-1.1-.9-2-2-2zM9 17H7v-7h2v7zm4 0h-2V7h2v10zm4 0h-2v-4h2v4z\"/>\n",
              "    </g>\n",
              "</svg>\n",
              "  </button>\n",
              "\n",
              "<style>\n",
              "  .colab-df-quickchart {\n",
              "      --bg-color: #E8F0FE;\n",
              "      --fill-color: #1967D2;\n",
              "      --hover-bg-color: #E2EBFA;\n",
              "      --hover-fill-color: #174EA6;\n",
              "      --disabled-fill-color: #AAA;\n",
              "      --disabled-bg-color: #DDD;\n",
              "  }\n",
              "\n",
              "  [theme=dark] .colab-df-quickchart {\n",
              "      --bg-color: #3B4455;\n",
              "      --fill-color: #D2E3FC;\n",
              "      --hover-bg-color: #434B5C;\n",
              "      --hover-fill-color: #FFFFFF;\n",
              "      --disabled-bg-color: #3B4455;\n",
              "      --disabled-fill-color: #666;\n",
              "  }\n",
              "\n",
              "  .colab-df-quickchart {\n",
              "    background-color: var(--bg-color);\n",
              "    border: none;\n",
              "    border-radius: 50%;\n",
              "    cursor: pointer;\n",
              "    display: none;\n",
              "    fill: var(--fill-color);\n",
              "    height: 32px;\n",
              "    padding: 0;\n",
              "    width: 32px;\n",
              "  }\n",
              "\n",
              "  .colab-df-quickchart:hover {\n",
              "    background-color: var(--hover-bg-color);\n",
              "    box-shadow: 0 1px 2px rgba(60, 64, 67, 0.3), 0 1px 3px 1px rgba(60, 64, 67, 0.15);\n",
              "    fill: var(--button-hover-fill-color);\n",
              "  }\n",
              "\n",
              "  .colab-df-quickchart-complete:disabled,\n",
              "  .colab-df-quickchart-complete:disabled:hover {\n",
              "    background-color: var(--disabled-bg-color);\n",
              "    fill: var(--disabled-fill-color);\n",
              "    box-shadow: none;\n",
              "  }\n",
              "\n",
              "  .colab-df-spinner {\n",
              "    border: 2px solid var(--fill-color);\n",
              "    border-color: transparent;\n",
              "    border-bottom-color: var(--fill-color);\n",
              "    animation:\n",
              "      spin 1s steps(1) infinite;\n",
              "  }\n",
              "\n",
              "  @keyframes spin {\n",
              "    0% {\n",
              "      border-color: transparent;\n",
              "      border-bottom-color: var(--fill-color);\n",
              "      border-left-color: var(--fill-color);\n",
              "    }\n",
              "    20% {\n",
              "      border-color: transparent;\n",
              "      border-left-color: var(--fill-color);\n",
              "      border-top-color: var(--fill-color);\n",
              "    }\n",
              "    30% {\n",
              "      border-color: transparent;\n",
              "      border-left-color: var(--fill-color);\n",
              "      border-top-color: var(--fill-color);\n",
              "      border-right-color: var(--fill-color);\n",
              "    }\n",
              "    40% {\n",
              "      border-color: transparent;\n",
              "      border-right-color: var(--fill-color);\n",
              "      border-top-color: var(--fill-color);\n",
              "    }\n",
              "    60% {\n",
              "      border-color: transparent;\n",
              "      border-right-color: var(--fill-color);\n",
              "    }\n",
              "    80% {\n",
              "      border-color: transparent;\n",
              "      border-right-color: var(--fill-color);\n",
              "      border-bottom-color: var(--fill-color);\n",
              "    }\n",
              "    90% {\n",
              "      border-color: transparent;\n",
              "      border-bottom-color: var(--fill-color);\n",
              "    }\n",
              "  }\n",
              "</style>\n",
              "\n",
              "  <script>\n",
              "    async function quickchart(key) {\n",
              "      const quickchartButtonEl =\n",
              "        document.querySelector('#' + key + ' button');\n",
              "      quickchartButtonEl.disabled = true;  // To prevent multiple clicks.\n",
              "      quickchartButtonEl.classList.add('colab-df-spinner');\n",
              "      try {\n",
              "        const charts = await google.colab.kernel.invokeFunction(\n",
              "            'suggestCharts', [key], {});\n",
              "      } catch (error) {\n",
              "        console.error('Error during call to suggestCharts:', error);\n",
              "      }\n",
              "      quickchartButtonEl.classList.remove('colab-df-spinner');\n",
              "      quickchartButtonEl.classList.add('colab-df-quickchart-complete');\n",
              "    }\n",
              "    (() => {\n",
              "      let quickchartButtonEl =\n",
              "        document.querySelector('#df-c07ac61e-770c-4eb3-a7af-890adca9940e button');\n",
              "      quickchartButtonEl.style.display =\n",
              "        google.colab.kernel.accessAllowed ? 'block' : 'none';\n",
              "    })();\n",
              "  </script>\n",
              "</div>\n",
              "\n",
              "    </div>\n",
              "  </div>\n"
            ],
            "application/vnd.google.colaboratory.intrinsic+json": {
              "type": "dataframe",
              "variable_name": "data"
            }
          },
          "metadata": {},
          "execution_count": 2
        }
      ],
      "source": [
        "from google.colab import drive\n",
        "drive.mount('/content/drive')\n",
        "#Load dataset\n",
        "data = pd.read_csv('/content/drive/MyDrive/Colab Notebooks/Suicide_Detection.csv', encoding=\"utf-8\")\n",
        "print(data.columns)\n",
        "data.head()"
      ]
    },
    {
      "cell_type": "code",
      "source": [
        "print(\"Dataset Missing Values:\")\n",
        "\n",
        "null_check = data.isnull().sum()\n",
        "print(null_check)"
      ],
      "metadata": {
        "colab": {
          "base_uri": "https://localhost:8080/"
        },
        "id": "ky1RyJD1Q7Ie",
        "outputId": "5c2e505b-7ebb-42fb-d4ed-3c186b3e04da"
      },
      "execution_count": null,
      "outputs": [
        {
          "output_type": "stream",
          "name": "stdout",
          "text": [
            "Dataset Missing Values:\n",
            "Unnamed: 0    0\n",
            "text          0\n",
            "class         0\n",
            "dtype: int64\n"
          ]
        }
      ]
    },
    {
      "cell_type": "code",
      "source": [
        "# Check for duplicate rows in the entirity of df\n",
        "duplicate_rows = data.duplicated()\n",
        "\n",
        "# Count the number of duplicate rows\n",
        "num_duplicates = duplicate_rows.sum()\n",
        "\n",
        "# Display the duplicate rows\n",
        "duplicate_data = data[duplicate_rows]\n",
        "\n",
        "print(f\"Number of duplicate rows: {num_duplicates}\")\n",
        "print(\"Duplicate rows:\")\n",
        "print(duplicate_data)"
      ],
      "metadata": {
        "colab": {
          "base_uri": "https://localhost:8080/"
        },
        "id": "Afxo5TRYRzWZ",
        "outputId": "d5acf8f8-b4f6-4692-ffd8-06f6d3e08c46"
      },
      "execution_count": null,
      "outputs": [
        {
          "output_type": "stream",
          "name": "stdout",
          "text": [
            "Number of duplicate rows: 0\n",
            "Duplicate rows:\n",
            "Empty DataFrame\n",
            "Columns: [Unnamed: 0, text, class]\n",
            "Index: []\n"
          ]
        }
      ]
    },
    {
      "cell_type": "code",
      "execution_count": null,
      "metadata": {
        "colab": {
          "base_uri": "https://localhost:8080/",
          "height": 472
        },
        "id": "NAm0PfXoAn-h",
        "outputId": "dd8ae580-4d27-4607-a32c-26f2f324daf5"
      },
      "outputs": [
        {
          "output_type": "display_data",
          "data": {
            "text/plain": [
              "<Figure size 640x480 with 1 Axes>"
            ],
            "image/png": "[encoded data removed]"
          },
          "metadata": {}
        }
      ],
      "source": [
        "# Count the number of suicide and non-suicide classes\n",
        "suicide_count = data['class'].value_counts()[1]\n",
        "non_suicide_count = data['class'].value_counts()[0]\n",
        "\n",
        "# Create a bar plot\n",
        "labels = ['Non-Suicide', 'Suicide']\n",
        "values = [non_suicide_count, suicide_count]\n",
        "plt.bar(labels, values)\n",
        "\n",
        "# Add title and axis labels\n",
        "plt.title('Suicide vs. Non-Suicide Class Distribution')\n",
        "plt.xlabel('Class')\n",
        "plt.ylabel('Count')\n",
        "\n",
        "# Show the plot\n",
        "plt.show()"
      ]
    },
    {
      "cell_type": "markdown",
      "source": [
        "Data Preprocessing"
      ],
      "metadata": {
        "id": "lxV34ATkR997"
      }
    },
    {
      "cell_type": "code",
      "execution_count": 3,
      "metadata": {
        "id": "138CxNoPAJqL",
        "colab": {
          "base_uri": "https://localhost:8080/"
        },
        "outputId": "06317e55-6aec-4259-8048-0cc9395055c5"
      },
      "outputs": [
        {
          "output_type": "stream",
          "name": "stdout",
          "text": [
            "                                                     text        class\n",
            "0       ex wife threatening suiciderecently i left my ...      suicide\n",
            "1       am i weird i don't get affected by compliments...  non-suicide\n",
            "2       finally 2020 is almost over... so i can never ...  non-suicide\n",
            "3               i need helpjust help me im crying so hard      suicide\n",
            "4       i’m so losthello, my name is adam (16) and i’v...      suicide\n",
            "...                                                   ...          ...\n",
            "232069  if you don't like rock then your not going to ...  non-suicide\n",
            "232070  you how you can tell i have so many friends an...  non-suicide\n",
            "232071  pee probably tastes like salty tea😏💦‼️ can som...  non-suicide\n",
            "232072  the usual stuff you find herei'm not posting t...      suicide\n",
            "232073  i still haven't beaten the first boss in hollo...  non-suicide\n",
            "\n",
            "[232074 rows x 2 columns]\n"
          ]
        }
      ],
      "source": [
        "data.drop(['Unnamed: 0'],axis=1,inplace=True) #This Column Not neccesary\n",
        "data.head()\n",
        "data['text'] = data['text'].str.lower()\n",
        "# Remove leading and trailing whitespaces from the 'text' column\n",
        "data['text'] = data['text'].str.strip()\n",
        "print(data)"
      ]
    },
    {
      "cell_type": "markdown",
      "source": [
        "# Build Slang Dictionary\n",
        "\n",
        "Replace all slang words with their proper English Words"
      ],
      "metadata": {
        "id": "Llm9UDKmVaHW"
      }
    },
    {
      "cell_type": "code",
      "execution_count": 4,
      "metadata": {
        "colab": {
          "base_uri": "https://localhost:8080/"
        },
        "id": "kVs0R3PKAgXs",
        "outputId": "7076758d-07c2-4f72-e41e-699c6d1dd944"
      },
      "outputs": [
        {
          "output_type": "stream",
          "name": "stdout",
          "text": [
            "{'\"awsm\"': '\"awesome\"', '\"aamof\"': '\"as a matter of fact\"', '\"abt\"': '\"about\"', '\"abt2\"': '\"about to\"', '\"ac\"': '\"air conditioning\"', '\"ace\"': '\"solo winner\"', '\"ack\"': '\"acknowledged\"', '\"admin\"': '\"administrator\"', '\"thr\"': '\"there\"', '\"frm\"': '\"from\"', '\"aggro\"': '\"aggression\"', '\"agl\"': '\"angel\"', '\"dob\"': '\"date of birth\"', '\"ai\"': '\"artificial intelligence\"', '\"aiic\"': '\"as if i care\"', '\"aka\"': '\"also known as\"', '\"alap\"': '\"as long as possible\"', '\"alol\"': '\"actually laughing out loud\"', '\"ama\"': '\"ask me anything\"', '\"amap\"': '\"as much as possible\"', '\"amazn\"': '\"amazing\"', '\"ammo\"': '\"ammunition\"', '\"ams\"': '\"ask me something\"', '\"anon\"': '\"anonymous\"', '\"asap\"': '\"as soon as possible\"', '\"asat\"': '\"as simple as that\"', '\"awks\"': '\"awkward\"', '\"awl\"': '\"always with love\"', '\"ayk\"': '\"as you know\"', '\"azm\"': '\"awesome\"', '\"b\"': '\"be\"', '\"b&w\"': '\"black and white\"', '\"b-day\"': '\"birthday\"', '\"bday\"': '\"birthday\"', '\"bcoz\"': '\"because\"', '\"bcos\"': '\"because\"', '\"bcz\"': '\"because\"', '\"bf\"': '\"boyfriend\"', '\"btw\"': '\"between\"', '\"b4\"': '\"before\"', '\"bai\"': '\"bye\"', '\"bb\"': '\"bye bye\"', '\"bc\"': '\"abuse\"', '\"mc\"': '\"abuse\"', '\"bcc\"': '\"blind carbon copy\"', '\"bff\"': '\"best friends forever\"', '\"biz\"': '\"business\"', '\"bk\"': '\"back\"', '\"bo\"': '\"back off\"', '\"bro\"': '\"brother\"', '\"btwn\"': '\"between\"', '\"c\"': '\"see\"', '\"char\"': '\"character\"', '\"combo\"': '\"combination\"', '\"cu\"': '\"see you\"', '\"cu2\"': '\"see you too\"', '\"cu2mr\"': '\"see you tomorrow\"', '\"cya\"': '\"see ya\"', '\"cyal8r\"': '\"see you later\"', '\"cyb\"': '\"call you back\"', '\"cye\"': '\"check your e-mail\"', '\"cyf\"': '\"check your facebook\"', '\"cyfb\"': '\"check your facebook\"', '\"cyl\"': '\"catch ya later\"', '\"cym\"': '\"check your myspace\"', '\"cyo\"': '\"see you online\"', '\"d8\"': '\"date\"', '\"da\"': '\"the\"', '\"dece\"': '\"decent\"', '\"ded\"': '\"dead\"', '\"dept\"': '\"department\"', '\"dis\"': '\"this\"', '\"ditto\"': '\"same\"', '\"diva\"': '\"rude woman\"', '\"dk\"': '\"don\\'t know\"', '\"dlm\"': '\"don\\'t leave me\"', '\"dm\"': '\"direct message\"', '\"dnd\"': '\"do not disturb\"', '\"dno\"': '\"don\\'t know\"', '\"dnt\"': '\"don\\'t\"', '\"e1\"': '\"everyone\"', '\"eg\"': '\"for example\"', '\"emc2\"': '\"genius\"', '\"emo\"': '\"emotional\"', '\"enuf\"': '\"enough\"', '\"eod\"': '\"end of discussion\"', '\"eof\"': '\"end of file\"', '\"eom\"': '\"end of message\"', '\"eta\"': '\"estimated time of arrival\"', '\"every1\"': '\"everyone\"', '\"evs\"': '\"whatever\"', '\"exp\"': '\"experience\"', '\"f\"': '\"female\"', '\"f2f\"': '\"face to face\"', '\"f2p\"': '\"free to play\"', '\"f2t\"': '\"free to talk\"', '\"f9\"': '\"fine\"', '\"fab\"': '\"fabulous\"', '\"fail\"': '\"failure\"', '\"faq\"': '\"frequently asked questions\"', '\"fav\"': '\"favorite\"', '\"fave\"': '\"favorite\"', '\"favs\"': '\"favorites\"', '\"fb\"': '\"facebook\"', '\"fbc\"': '\"facebook chat\"', '\"fbf\"': '\"facebook friend\"', '\"fml\"': '\"family\"', '\"fn\"': '\"fine\"', '\"fo\"': '\"freaking out\"', '\"fri\"': '\"friday\"', '\"frnd\"': '\"friend\"', '\"fu\"': '\"fuck you\"', '\"fugly\"': '\"fucking ugly\"', '\"gf\"': '\"girlfriend\"', '\"g1\"': '\"good one\"', '\"g2b\"': '\"going to bed\"', '\"g2cu\"': '\"good to see you\"', '\"g2g\"': '\"good to go\"', '\"g4i\"': '\"go for it\"', '\"g4n\"': '\"good for nothing\"', '\"g4u\"': '\"good for you\"', '\"g9\"': '\"goodnight\"', '\"ga\"': '\"go ahead\"', '\"ge\"': '\"good evening\"', '\"gl\"': '\"good luck\"', '\"gm\"': '\"good morning\"', '\"gn\"': '\"goodnight\"', '\"gonna\"': '\"going to\"', '\"goon\"': '\"idiot\"', '\"gorge\"': '\"gorgeous\"', '\"gr8\"': '\"great\"', '\"grats\"': '\"congratulations\"', '\"gratz\"': '\"congratulations\"', '\"grl\"': '\"girl\"', '\"gt2t\"': '\"got time to talk\"', '\"gtg\"': '\"good to go\"', '\"gud\"': '\"good\"', '\"gv\"': '\"give\"', '\"gvn\"': '\"given\"', '\"gw\"': '\"good work\"', '\"h/o\"': '\"hold on\"', '\"h/p\"': '\"hold please\"', '\"h/t\"': '\"hat tip\"', '\"h/u\"': '\"hook up\"', '\"h2cus\"': '\"hope to see you soon\"', '\"h4u\"': '\"hot for you\"', '\"h4x0r\"': '\"hacker\"', '\"h4x0rz\"': '\"hackers\"', '\"h8\"': '\"hate\"', '\"h8r\"': '\"hater\"', '\"h8t\"': '\"hate\"', '\"ha\"': '\"hello again\"', '\"haha\"': '\"laughing\"', '\"hai\"': '\"hi\"', '\"hak\"': '\"hugs and kisses\"', '\"han\"': '\"how about now?\"', '\"hav\"': '\"have\"', '\"hax\"': '\"hacks\"', '\"haxor\"': '\"hacker\"', '\"hay\"': '\"how are you\"', '\"hb2u\"': '\"happy birthday to you\"', '\"hbbd\"': '\"happy belated birthday\"', '\"hbd\"': '\"happy birthday\"', '\"hc\"': '\"how cool\"', '\"hcit\"': '\"how cool is that\"', '\"hehe\"': '\"laughing\"', '\"hf\"': '\"have fun\"', '\"hi5\"': '\"high five\"', '\"hig\"': '\"how\\'s it going?\"', '\"hih\"': '\"hope it helps\"', '\"ho\"': '\"hold on\"', '\"hoc\"': '\"house of cards\"', '\"hof\"': '\"hall of fame\"', '\"holla\"': '\"holler\"', '\"hom\"': '\"hit or miss\"', '\"hood\"': '\"neighborhood\"', '\"hoops\"': '\"basketball\"', '\"hottie\"': '\"attractive person\"', '\"hr\"': '\"human resources\"', '\"hru\"': '\"how are you\"', '\"hry\"': '\"hurry\"', '\"hubby\"': '\"husband\"', '\"hwk\"': '\"homework\"', '\"hwp\"': '\"height weight proportionate\"', '\"hwu\"': '\"hey what\\'s up?\"', '\"hxc\"': '\"hardcore\"', '\"h^\"': '\"hook up\"', '\"i8\"': '\"i ate\"', '\"i8u\"': '\"i hate you\"', '\"ia\"': '\"i agree\"', '\"iab\"': '\"in a bit\"', '\"iac\"': '\"in any case\"', '\"iad\"': '\"it all depends\"', '\"iae\"': '\"in any event\"', '\"iag\"': '\"it\\'s all good\"'}\n",
            "                                                text        class\n",
            "0  ex wife threatening suiciderecently i left my ...      suicide\n",
            "1  am i weird i don't get affected by compliments...  non-suicide\n",
            "2  finally 2020 is almost over... so i can never ...  non-suicide\n",
            "3          i need helpjust help me im crying so hard      suicide\n",
            "4  i’m so losthello, my name is adam (16) and i’v...      suicide\n"
          ]
        }
      ],
      "source": [
        "file_path='/content/drive/MyDrive/Colab Notebooks/slang.txt'\n",
        "\n",
        "with open(file_path,'r') as file:\n",
        "  textfile_contents=file.read()\n",
        "content_cleaned=textfile_contents.replace(',','')\n",
        "slangs_dict={}\n",
        "#print(content_cleaned)\n",
        "for line in content_cleaned.splitlines():\n",
        "  abbreviation, expanded_form = line.strip().split(':')\n",
        "        # Store the abbreviation and its expanded form in the dictionary\n",
        "  slangs_dict[abbreviation.strip()] = expanded_form.strip()\n",
        "\n",
        "\n",
        "print(slangs_dict)\n",
        "\n",
        "def replace_slang(text, slang_dict):\n",
        "    for slang, expansion in slang_dict.items():\n",
        "        text = text.replace(slang, expansion)\n",
        "    return text\n",
        "data['text'] = data['text'].apply(lambda x: replace_slang(x.lower(), slangs_dict))\n",
        "\n",
        "print(data.head())"
      ]
    },
    {
      "cell_type": "markdown",
      "source": [
        "# Build Abreviation Dictionary\n",
        "Replace all slang words with their proper English Words"
      ],
      "metadata": {
        "id": "9wV-IpXtZN1W"
      }
    },
    {
      "cell_type": "code",
      "source": [
        "file_path='/content/drive/MyDrive/Colab Notebooks/contractions1.0.txt'\n",
        "\n",
        "contractions_dict = {}\n",
        "\n",
        "with open(file_path, 'r') as file:\n",
        "  lines = file.readlines()\n",
        "  for line in lines:\n",
        "    # Remove any whitespace and the trailing comma\n",
        "    line = line.strip().rstrip(',')\n",
        "    if line:\n",
        "      # Split the line into contraction and expansion using regex to handle extra colons\n",
        "      match = re.match(r'\"([^\"]+)\":\\s*\"([^\"]+)\"', line)\n",
        "      if match:\n",
        "        contraction, expansion = match.groups()\n",
        "                    # Add the contraction and its expansion to the dictionary\n",
        "        contractions_dict[contraction] = expansion\n",
        "\n",
        "\n",
        "print(contractions_dict)\n",
        "def replace_contractions(text, contractions_dict):\n",
        "    for contraction, expansion in contractions_dict.items():\n",
        "        text = text.replace(contraction, expansion)\n",
        "    return text\n",
        "# Apply the replace_contractions function to the 'text' column\n",
        "data['text'] = data['text'].apply(lambda x: replace_contractions(x, contractions_dict))\n",
        "\n",
        "# Print the DataFrame\n",
        "print(data)"
      ],
      "metadata": {
        "colab": {
          "base_uri": "https://localhost:8080/"
        },
        "id": "KdTfTDzXZToh",
        "outputId": "193b3d73-a2bd-4808-88f5-f56090aab88d"
      },
      "execution_count": 6,
      "outputs": [
        {
          "output_type": "stream",
          "name": "stdout",
          "text": [
            "{'ain’t': 'am not', 'aren’t': 'are not', 'can’t': 'cannot', 'can’t’ve': 'cannot have', '’cause': 'because', 'could’ve': 'could have', 'couldn’t': 'could not', 'couldn’t’ve': 'could not have', 'didn’t': 'did not', 'doesn’t': 'does not', 'don’t': 'do not', 'dont': 'do not', 'hadn’t': 'had not', 'hadn’t’ve': 'had not have', 'hasn’t': 'has not', 'haven’t': 'have not', 'he’d': 'he would', 'idk': 'i do not know', 'he’d’ve': 'he would have', 'he’ll': 'he will', 'he’ll’ve': 'he will have', 'he’s': 'he is', 'how’d': 'how did', 'how’d’y': 'how do you', 'how’ll': 'how will', 'how’s': 'how is', 'i’d': 'i would', 'i’d’ve': 'i would have', 'i’ll': 'i will', 'i’ll’ve': 'i will have', 'I’m': 'i am', 'Im': 'i am', 'i’m': 'i am', 'im': 'i am', 'I’ve': 'i have', 'ive': 'i have', 'Ive': 'i have', 'i’ve': 'i have', 'isn’t': 'is not', 'it’d': 'it had', 'it’d’ve': 'it would have', 'it’ll': 'it will', 'it’ll’ve': 'it will have', 'it’s': 'it is', 'let’s': 'let us', 'ma’am': 'madam', 'mayn’t': 'may not', 'might’ve': 'might have', 'mightn’t': 'might not', 'mightn’t’ve': 'might not have', 'must’ve': 'must have', 'mustn’t': 'must not', 'mustn’t’ve': 'must not have', 'needn’t': 'need not', 'needn’t’ve': 'need not have', 'o’clock': 'of the clock', 'oughtn’t': 'ought not', 'oughtn’t’ve': 'ought not have', 'shan’t': 'shall not', 'sha’n’t': 'shall not', 'shan’t’ve': 'shall not have', 'she’d': 'she would', 'she’d’ve': 'she would have', 'she’ll': 'she will', 'she’ll’ve': 'she will have', 'she’s': 'she is', 'should’ve': 'should have', 'shouldn’t': 'should not', 'shouldn’t’ve': 'should not have', 'so’ve': 'so have', 'so’s': 'so is', 'that’d': 'that would', 'that’d’ve': 'that would have', 'that’s': 'that is', 'there’d': 'there had', 'there’d’ve': 'there would have', 'there’s': 'there is', 'they’d': 'they would', 'they’d’ve': 'they would have', 'they’ll': 'they will', 'they’ll’ve': 'they will have', 'they’re': 'they are', 'they’ve': 'they have', 'to’ve': 'to have', 'wasn’t': 'was not', 'we’d': 'we had', 'we’d’ve': 'we would have', 'we’ll': 'we will', 'we’ll’ve': 'we will have', 'we’re': 'we are', 'we’ve': 'we have', 'weren’t': 'were not', 'what’ll': 'what will', 'what’ll’ve': 'what will have', 'what’re': 'what are', 'what’s': 'what is', 'what’ve': 'what have', 'when’s': 'when is', 'when’ve': 'when have', 'where’d': 'where did', 'where’s': 'where is', 'where’ve': 'where have', 'who’ll': 'who will', 'who’ll’ve': 'who will have', 'who’s': 'who is', 'who’ve': 'who have', 'why’s': 'why is', 'why’ve': 'why have', 'will’ve': 'will have', 'won’t': 'will not', 'won’t’ve': 'will not have', 'would’ve': 'would have', 'wouldn’t': 'would not', 'wouldn’t’ve': 'would not have', 'y’all': 'you all', 'y’alls': 'you alls', 'y’all’d': 'you all would', 'y’all’d’ve': 'you all would have', 'y’all’re': 'you all are', 'y’all’ve': 'you all have', 'you’d': 'you had', 'you’d’ve': 'you would have', 'you’ll': 'you you will', 'you’ll’ve': 'you you will have', 'you’re': 'you are', 'you’ve': 'you have'}\n",
            "                                                     text        class\n",
            "0       ex wife threatening suiciderecently i left my ...      suicide\n",
            "1       am i weird i do not get affected by compli ame...  non-suicide\n",
            "2       finally 2020 is almost over... so i can never ...  non-suicide\n",
            "3             i need helpjust help me i am crying so hard      suicide\n",
            "4       i am so losthello, my name is adam (16) and i ...      suicide\n",
            "...                                                   ...          ...\n",
            "232069  if you do not like rock then your not going to...  non-suicide\n",
            "232070  you how you can tell i have so many friends an...  non-suicide\n",
            "232071  pee probably tastes like salty tea😏💦‼️ can som...  non-suicide\n",
            "232072  the usual stuff you find herei am not posting ...      suicide\n",
            "232073  i still have not beaten the first boss in holl...  non-suicide\n",
            "\n",
            "[232074 rows x 2 columns]\n"
          ]
        }
      ]
    },
    {
      "cell_type": "markdown",
      "source": [
        "Break up Double segmented words eg SuicideRecently"
      ],
      "metadata": {
        "id": "0HHAlfmGzpFa"
      }
    },
    {
      "cell_type": "code",
      "source": [
        "data['text'] = data['text'].apply(lambda text: \" \".join(wordninja.split(text)))\n",
        "print(data.head())"
      ],
      "metadata": {
        "colab": {
          "base_uri": "https://localhost:8080/"
        },
        "id": "ivRuQCApzlj0",
        "outputId": "88457a44-1ef8-41b3-f6db-d4fabd130b7c"
      },
      "execution_count": 7,
      "outputs": [
        {
          "output_type": "stream",
          "name": "stdout",
          "text": [
            "                                                text        class\n",
            "0  ex wife threatening suicide recently i left my...      suicide\n",
            "1  am i weird i do not get affected by comp li a ...  non-suicide\n",
            "2  finally 2020 is almost over so i can never hea...  non-suicide\n",
            "3       i need help just help me i am crying so hard      suicide\n",
            "4  i am so lost hello my name is adam 16 and i ha...      suicide\n"
          ]
        }
      ]
    },
    {
      "cell_type": "markdown",
      "source": [
        "Text Cleaning"
      ],
      "metadata": {
        "id": "kt9RW35XVfDz"
      }
    },
    {
      "cell_type": "code",
      "execution_count": 8,
      "metadata": {
        "colab": {
          "base_uri": "https://localhost:8080/"
        },
        "id": "RAJPTvwd0cSp",
        "outputId": "913c03b7-b6a6-425d-ed26-e841e9ff9168"
      },
      "outputs": [
        {
          "output_type": "stream",
          "name": "stdout",
          "text": [
            "                                                     text  class\n",
            "0       ex wife threatening suicide recently i left my...      1\n",
            "1       am i weird i do not get affected by comp li a ...      0\n",
            "2       finally  is almost over so i can never hear  h...      0\n",
            "3            i need help just help me i am crying so hard      1\n",
            "4       i am so lost hello my name is adam  and i have...      1\n",
            "...                                                   ...    ...\n",
            "232069  if you do not like rock then your not going to...      0\n",
            "232070  you how you can tell i have so many friends an...      0\n",
            "232071  pee probably tastes like salty tea can someone...      0\n",
            "232072  the usual stuff you find here i am not posting...      1\n",
            "232073  i still have not beaten the first boss in holl...      0\n",
            "\n",
            "[232074 rows x 2 columns]\n"
          ]
        }
      ],
      "source": [
        "def remove_html_tags(text):\n",
        "  soup = BeautifulSoup(text,\"html.parser\") # remove Html tags\n",
        "  return soup.get_text()\n",
        "\n",
        "def remove_special_characters(text): # Get rid of special characters and punctation marks and digits\n",
        "  pattern=r'[^a-zA-Z\\s]'\n",
        "  text=re.sub(pattern,'',text)\n",
        "  return text\n",
        "\n",
        "def output_to_Binary(label):\n",
        "  if (label ==\"suicide\"):  #  Convert the labels to Binary -1 positive and 0 being negative\n",
        "    return 1\n",
        "  else:\n",
        "    return 0\n",
        "\n",
        "def apply_datasetCleaning(text):\n",
        "  text= remove_html_tags(text)\n",
        "  text=remove_special_characters(text)\n",
        "  return text\n",
        "\n",
        "data['text']=data['text'].apply(apply_datasetCleaning)\n",
        "data['class']=data['class'].apply(output_to_Binary)\n",
        "\n",
        "print(data)"
      ]
    },
    {
      "cell_type": "markdown",
      "metadata": {
        "id": "ONijjSU9AjTr"
      },
      "source": [
        "Further Text Cleaning"
      ]
    },
    {
      "cell_type": "code",
      "execution_count": 9,
      "metadata": {
        "colab": {
          "base_uri": "https://localhost:8080/"
        },
        "id": "7WB5jivhDbUt",
        "outputId": "cb7fd1ff-5d15-4074-b1ee-5cc0b9557ef9"
      },
      "outputs": [
        {
          "output_type": "stream",
          "name": "stderr",
          "text": [
            "[nltk_data] Downloading package stopwords to /root/nltk_data...\n",
            "[nltk_data]   Unzipping corpora/stopwords.zip.\n",
            "[nltk_data] Downloading package wordnet to /root/nltk_data...\n"
          ]
        },
        {
          "output_type": "stream",
          "name": "stdout",
          "text": [
            "                                                     text  class\n",
            "0       ex wife threatening suicide recently left wife...      1\n",
            "1       weird get affected comp li ment coming someone...      0\n",
            "2       finally almost never hear bad year ever swear ...      0\n",
            "3                                need help help cry hard       1\n",
            "4       lost hello name adam struggling year afraid pa...      1\n",
            "...                                                   ...    ...\n",
            "232069  like rock going get anything go http music tas...      0\n",
            "232070  tell many friend lonely everything de pri pre ...      0\n",
            "232071  pee probably taste like salty tea someone dran...      0\n",
            "232072  usual stuff find posting sympathy pity know fa...      1\n",
            "232073  still beaten first bos hollow knight fought ti...      0\n",
            "\n",
            "[232074 rows x 2 columns]\n"
          ]
        }
      ],
      "source": [
        "nltk.download('stopwords')\n",
        "from nltk.corpus import stopwords\n",
        "from nltk.tokenize import word_tokenize\n",
        "nltk.download('wordnet')\n",
        "\n",
        "stop_words = set(stopwords.words('english'))\n",
        "#Remove stop words\n",
        "data['text'] = data['text'].apply(lambda x: ' '.join([word for word in x.split() if word not in (stop_words)]))\n",
        "\n",
        "w_tokenizer = nltk.tokenize.WhitespaceTokenizer()\n",
        "lemmatizer = nltk.stem.WordNetLemmatizer()\n",
        "def lemmatize_text(text): #Lemmatiser\n",
        "    st = \"\"\n",
        "    for w in w_tokenizer.tokenize(text):\n",
        "        st = st + lemmatizer.lemmatize(w) + \" \"\n",
        "    return st\n",
        "    #Lemmatise all the words for each text\n",
        "data['text'] = data.text.apply(lemmatize_text)\n",
        "print(data)"
      ]
    },
    {
      "cell_type": "code",
      "source": [
        "import nltk\n",
        "from nltk.corpus import words\n",
        "from nltk.tokenize import word_tokenize\n",
        "nltk.download('words')\n",
        "nltk.download('punkt')\n",
        "\n",
        "# Load the set of English words\n",
        "english_words = set(words.words())\n",
        "\n",
        "\n",
        "# Function to remove non-English words from a list of tokens\n",
        "def remove_non_english(tokens):\n",
        "    english_tokens = [\n",
        "        token if (token.lower() in english_words) else ''\n",
        "        for token in tokens]\n",
        "    return [token for token in english_tokens if token != '']\n",
        "\n",
        "# Function to process text in the DataFrame\n",
        "def process_text(text):\n",
        "    tokens = word_tokenize(text)  # Tokenize the text\n",
        "    clean_tokens = remove_non_english(tokens)  # Remove non-English words\n",
        "    return ' '.join(clean_tokens)  # Reconstruct the text\n",
        "\n",
        "\n",
        "# Apply the function to the 'text' column in the DataFrame\n",
        "data['text'] = data['text'].apply(process_text)\n",
        "\n",
        "print(data)\n"
      ],
      "metadata": {
        "id": "fni7MacpCluE",
        "colab": {
          "base_uri": "https://localhost:8080/"
        },
        "outputId": "8fb0904f-b014-4093-f317-b6c47db51e4e"
      },
      "execution_count": 10,
      "outputs": [
        {
          "output_type": "stream",
          "name": "stderr",
          "text": [
            "[nltk_data] Downloading package words to /root/nltk_data...\n",
            "[nltk_data]   Unzipping corpora/words.zip.\n",
            "[nltk_data] Downloading package punkt to /root/nltk_data...\n",
            "[nltk_data]   Unzipping tokenizers/punkt.zip.\n"
          ]
        },
        {
          "output_type": "stream",
          "name": "stdout",
          "text": [
            "                                                     text  class\n",
            "0       ex wife threatening suicide recently left wife...      1\n",
            "1       weird get affected li coming someone know feel...      0\n",
            "2       finally almost never hear bad year ever swear ...      0\n",
            "3                                 need help help cry hard      1\n",
            "4       lost hello name struggling year afraid past ye...      1\n",
            "...                                                   ...    ...\n",
            "232069  like rock going get anything go music taste sp...      0\n",
            "232070  tell many friend lonely everything de bought l...      0\n",
            "232071  pee probably taste like salty tea someone dran...      0\n",
            "232072  usual stuff find posting sympathy pity know fa...      1\n",
            "232073  still beaten first hollow knight fought ti alw...      0\n",
            "\n",
            "[232074 rows x 2 columns]\n"
          ]
        }
      ]
    },
    {
      "cell_type": "code",
      "source": [
        "print(data['text'][0])\n",
        "print(data['text'][3])\n",
        "print(data['text'][4])\n",
        "print(data['text'][20])"
      ],
      "metadata": {
        "colab": {
          "base_uri": "https://localhost:8080/"
        },
        "id": "ulnW77rXjWYo",
        "outputId": "78f4ac63-74b9-497e-8412-528306f295ff"
      },
      "execution_count": 11,
      "outputs": [
        {
          "output_type": "stream",
          "name": "stdout",
          "text": [
            "ex wife threatening suicide recently left wife good twice lied much decided refuse go back day ago threatening suicide tirelessly spent pa day talking keep hesitating want believe come back know lot people threaten order get way really supposed handle death hand still love wife can not deal getting constantly feeling insecure worried today may day hope much happen\n",
            "need help help cry hard\n",
            "lost hello name struggling year afraid past year thought suicide fear anxiety close li quiet long come family feeling year ago losing aunt triggered everyday feeling hopeless lost guilty remorseful thing done life thought like little experienced life ti revealed feeling family broke saw cut watching get worried something average day made feel absolutely dreadful later found attempt survivor attempt od overdose pill attempt hanging blackout pill never went noose still afraid first therapy severe depression social anxiety eating disorder later transferred en group therapy reason made feel anxious eventually last session therapy result daily check feeling step survey dad come find feeling horrible afraid anxious everyday absolutely amazing happiest ever seen therapy hi eventually put sert line anti anxiety anti depression sorry forgot never finished first prescription ever found right type anti depressant thought drug took pill schedule week stopped taking ti feeling worse afraid damage worry even everything going afraid ever cutting severe insomnia day day feeling hopeless worthless still motivation move bed keep going ask nearly every night almost break every ti please please please someone anyone help might something drastic shaped fear anxiety know\n",
            "ending life today everyone almost disability rheumatoid arthritis sick living tired single made feel kind monster tired anyone connect connect companionship tired alone single world weight loneliness taken much inside see nothing darkness everywhere look see nothing hate towards everywhere look absolutely one life loneliness every day done world ending life today everyone ti anyone read dead\n"
          ]
        }
      ]
    },
    {
      "cell_type": "markdown",
      "source": [
        "Visualisation of Data Balance"
      ],
      "metadata": {
        "id": "Da97cBf8Vnh3"
      }
    },
    {
      "cell_type": "markdown",
      "source": [
        "Splitting of Dataset"
      ],
      "metadata": {
        "id": "SbZBIGwPVjff"
      }
    },
    {
      "cell_type": "code",
      "execution_count": 12,
      "metadata": {
        "colab": {
          "base_uri": "https://localhost:8080/"
        },
        "id": "XxK2V8Moc-Js",
        "outputId": "64889d20-82bd-4ab2-e948-c26c8ec3b8d4"
      },
      "outputs": [
        {
          "output_type": "stream",
          "name": "stdout",
          "text": [
            "[1 0 0 ... 0 1 0]\n",
            "Train Data size: 185659\n",
            "Test Data size 46415\n"
          ]
        }
      ],
      "source": [
        "text=data['text'].values\n",
        "labels=data['class'].values\n",
        "print(labels)\n",
        "train_texts, test_texts,train_labels,test_labels = train_test_split(text,labels, test_size=0.2,stratify=labels,\n",
        "                                         random_state=7) # Splits Dataset into Training and Testing set\n",
        "                                         #Startify ensures the proportion of the reginal dataset remains the same in the partioned sets\n",
        "print(\"Train Data size:\", len(train_texts))\n",
        "print(\"Test Data size\", len(test_texts))"
      ]
    },
    {
      "cell_type": "markdown",
      "metadata": {
        "id": "W2eFw3cYCMhd"
      },
      "source": [
        "Visualisation of Text Lengths"
      ]
    },
    {
      "cell_type": "code",
      "execution_count": 13,
      "metadata": {
        "colab": {
          "base_uri": "https://localhost:8080/",
          "height": 633
        },
        "id": "ocNfgkQHCE9E",
        "outputId": "0d4fd474-44e0-41b1-ac8a-94fd251c9be0"
      },
      "outputs": [
        {
          "output_type": "display_data",
          "data": {
            "text/plain": [
              "<Figure size 1000x600 with 1 Axes>"
            ],
            "image/png": "[encoded data removed]"
          },
          "metadata": {}
        },
        {
          "output_type": "stream",
          "name": "stdout",
          "text": [
            "Mean training text length: 55.53702217506289\n",
            "Median training text length: 26.0\n",
            "Max training text length: 19445\n",
            "Min training text length: 0\n"
          ]
        }
      ],
      "source": [
        "import numpy as np\n",
        "import matplotlib.pyplot as plt\n",
        "\n",
        "# Calculate the lengths of each training text\n",
        "train_text_lengths = np.array([len(t.split()) for t in train_texts])\n",
        "\n",
        "# Adjust the range and bins to include texts up to 7000 words\n",
        "bins = np.arange(0, 7100, 100)  # Include up to 7000 words\n",
        "\n",
        "# Plot the histogram\n",
        "plt.figure(figsize=(10, 6))\n",
        "plt.hist(train_text_lengths, bins=bins, color='blue', edgecolor='black')\n",
        "plt.title('Distribution of Training Text Lengths')\n",
        "plt.xlabel('Text Length (Number of words)')\n",
        "plt.ylabel('Frequency')\n",
        "plt.yscale('log')  # Use log scale for better visualization if needed\n",
        "plt.show()\n",
        "\n",
        "# Compute and print basic statistics\n",
        "mean_length = np.mean(train_text_lengths)\n",
        "median_length = np.median(train_text_lengths)\n",
        "max_length = np.max(train_text_lengths)\n",
        "min_length = np.min(train_text_lengths)\n",
        "\n",
        "print(f\"Mean training text length: {mean_length}\")\n",
        "print(f\"Median training text length: {median_length}\")\n",
        "print(f\"Max training text length: {max_length}\")\n",
        "print(f\"Min training text length: {min_length}\")\n"
      ]
    },
    {
      "cell_type": "code",
      "execution_count": null,
      "metadata": {
        "colab": {
          "base_uri": "https://localhost:8080/"
        },
        "id": "9Y2DN3zQPIJv",
        "outputId": "ca91be37-7234-48c1-cd5c-d34e1ed11139"
      },
      "outputs": [
        {
          "output_type": "stream",
          "name": "stdout",
          "text": [
            "Proportion of texts with length below 100 words: 0.8488\n",
            "Proportion of texts with length below 150 words: 0.9182\n",
            "Proportion of texts with length below 200 words: 0.9517\n",
            "Proportion of texts with length below 250 words: 0.9699\n",
            "Proportion of texts with length below 300 words: 0.9799\n",
            "Proportion of texts with length below 350 words: 0.9862\n",
            "Proportion of texts with length below 400 words: 0.9900\n",
            "Proportion of texts with length below 450 words: 0.9927\n",
            "Proportion of texts with length below 500 words: 0.9945\n",
            "Proportion of texts with length below 1000 words: 0.9992\n",
            "Proportion of texts with length below 2000 words: 0.9999\n",
            "Proportion of texts with length below 3000 words: 0.9999\n",
            "Proportion of texts with length below 4000 words: 1.0000\n",
            "Proportion of texts with length below 5000 words: 1.0000\n",
            "Proportion of texts with length below 6000 words: 1.0000\n"
          ]
        }
      ],
      "source": [
        "# Calculate the proportion of texts below certain lengths\n",
        "thresholds = [100,150,200,250,300,350,400,450,500 ,1000, 2000, 3000, 4000, 5000, 6000]\n",
        "proportions = [(train_text_lengths < threshold).sum() / len(train_text_lengths) for threshold in thresholds]\n",
        "\n",
        "# Print the proportions\n",
        "for threshold, proportion in zip(thresholds, proportions):\n",
        "    print(f\"Proportion of texts with length below {threshold} words: {proportion:.4f}\")"
      ]
    },
    {
      "cell_type": "markdown",
      "source": [
        "Tokenising and padding text sequences to a fixed length for use in a neural network, converting words into numerical indices and ensuring all sequences are of the same length."
      ],
      "metadata": {
        "id": "nsRIirgdZ33q"
      }
    },
    {
      "cell_type": "code",
      "execution_count": 14,
      "metadata": {
        "colab": {
          "base_uri": "https://localhost:8080/"
        },
        "id": "XyURsR9wdHuq",
        "outputId": "5d19de69-f6cd-42b1-8832-dc52b58a6164"
      },
      "outputs": [
        {
          "output_type": "stream",
          "name": "stdout",
          "text": [
            "23843\n",
            "55\n"
          ]
        }
      ],
      "source": [
        "\n",
        "\n",
        "word_tokenizer = Tokenizer() #Tokenise text\n",
        "word_tokenizer.fit_on_texts(train_texts) # assigns unique integer index to each word in dcitionary\n",
        "train_texts = word_tokenizer.texts_to_sequences(train_texts) #converts sentences to their numeric form\n",
        "test_texts = word_tokenizer.texts_to_sequences(test_texts)\n",
        "\n",
        "# Adding 1 to store dimensions for words for which no pretrained word embeddings exist\n",
        "vocab_length = len(word_tokenizer.word_index) + 1\n",
        "print(vocab_length)\n",
        "# Padding all texts to fixed length\n",
        "avglen=int(sum(len(seq)for seq in train_texts)/len(train_texts))#Find longest text in training set\n",
        "#\n",
        "print(avglen) #\n",
        "#average is train text has 64 words\n",
        "train_texts = pad_sequences(train_texts, padding='post',maxlen=250)\n",
        "\n",
        "test_texts = pad_sequences(test_texts, padding='post',maxlen=250)\n"
      ]
    },
    {
      "cell_type": "markdown",
      "source": [
        "# Word Embeddings from GLOVE"
      ],
      "metadata": {
        "id": "sA3uNgQDp-QC"
      }
    },
    {
      "cell_type": "code",
      "execution_count": 15,
      "metadata": {
        "colab": {
          "base_uri": "https://localhost:8080/"
        },
        "id": "yFY0-POfjpw8",
        "outputId": "60c248d7-5311-42b4-d970-ca4a7a598054"
      },
      "outputs": [
        {
          "output_type": "execute_result",
          "data": {
            "text/plain": [
              "(23843, 100)"
            ]
          },
          "metadata": {},
          "execution_count": 15
        }
      ],
      "source": [
        "\n",
        "# Load GloVe word embeddings and create an Embeddings Dictionary\n",
        "from numpy import asarray\n",
        "from numpy import zeros\n",
        "embeddings_dictionary = dict()\n",
        "embedding_dim=100\n",
        "glove_file = open('/content/drive/MyDrive/Colab Notebooks/glove.6B.100d.txt', encoding=\"utf8\")\n",
        "for line in glove_file:\n",
        "    records = line.split()\n",
        "    word = records[0]\n",
        "    vector_dimensions = asarray(records[1:], dtype='float32')\n",
        "    embeddings_dictionary [word] = vector_dimensions\n",
        "glove_file.close()\n",
        "\n",
        "#Create embedding matrix for all words in our vocab with embeddings from Glove\n",
        "embedding_matrix = zeros((vocab_length, 100))\n",
        "for word, index in word_tokenizer.word_index.items():\n",
        "    embedding_vector = embeddings_dictionary.get(word)\n",
        "    if embedding_vector is not None:\n",
        "        embedding_matrix[index] = embedding_vector\n",
        "\n",
        "embedding_matrix.shape"
      ]
    },
    {
      "cell_type": "markdown",
      "source": [
        "# **Training**"
      ],
      "metadata": {
        "id": "OQRPfSMEYSAF"
      }
    },
    {
      "cell_type": "markdown",
      "metadata": {
        "id": "Q8js2OXMYxFr"
      },
      "source": [
        "Building LSTM"
      ]
    },
    {
      "cell_type": "code",
      "execution_count": 22,
      "metadata": {
        "id": "C0J02ajZY04a",
        "colab": {
          "base_uri": "https://localhost:8080/"
        },
        "outputId": "f1cdf868-1f8d-40d2-eed7-24c567c4a82b"
      },
      "outputs": [
        {
          "output_type": "stream",
          "name": "stdout",
          "text": [
            "Model: \"sequential_2\"\n",
            "_________________________________________________________________\n",
            " Layer (type)                Output Shape              Param #   \n",
            "=================================================================\n",
            " embedding_2 (Embedding)     (None, 250, 100)          2384300   \n",
            "                                                                 \n",
            " lstm_4 (LSTM)               (None, 250, 128)          117248    \n",
            "                                                                 \n",
            " dropout_5 (Dropout)         (None, 250, 128)          0         \n",
            "                                                                 \n",
            " batch_normalization_5 (Bat  (None, 250, 128)          512       \n",
            " chNormalization)                                                \n",
            "                                                                 \n",
            " lstm_5 (LSTM)               (None, 64)                49408     \n",
            "                                                                 \n",
            " dropout_6 (Dropout)         (None, 64)                0         \n",
            "                                                                 \n",
            " batch_normalization_6 (Bat  (None, 64)                256       \n",
            " chNormalization)                                                \n",
            "                                                                 \n",
            " dense_2 (Dense)             (None, 1)                 65        \n",
            "                                                                 \n",
            "=================================================================\n",
            "Total params: 2551789 (9.73 MB)\n",
            "Trainable params: 167105 (652.75 KB)\n",
            "Non-trainable params: 2384684 (9.10 MB)\n",
            "_________________________________________________________________\n"
          ]
        }
      ],
      "source": [
        "double_layer_lstm_model = Sequential([\n",
        "    Embedding(input_dim=vocab_length,output_dim= embedding_dim,weights=[embedding_matrix],  input_length=250, trainable=False),#Feed pretrained embedding words\n",
        "    LSTM(128, return_sequences=True), #  output the full sequence instead of the last output in the output sequence\n",
        "\n",
        "    Dropout(0.5),# Dropout layer to prevent overfitting\n",
        "    BatchNormalization(),# Batch normalization layer to normalize the inputs of the next layer\n",
        "\n",
        "    # Lstm layers use default activation which is tanh\n",
        "    LSTM(64, return_sequences=False),\n",
        "    Dropout(0.5), # return_sequences=False: output the last output in the output sequence\n",
        "    BatchNormalization(),\n",
        "    Dense(1, activation='sigmoid')\n",
        "])\n",
        "\n",
        "double_layer_lstm_model.compile(loss='binary_crossentropy',\n",
        "                optimizer='adam',\n",
        "                metrics=['accuracy'])\n",
        "\n",
        "double_layer_lstm_model.summary()"
      ]
    },
    {
      "cell_type": "markdown",
      "source": [
        "Training LSTM"
      ],
      "metadata": {
        "id": "eBF-5k4yb7Pj"
      }
    },
    {
      "cell_type": "code",
      "source": [
        "from keras.callbacks import ModelCheckpoint, EarlyStopping\n",
        "\n",
        "# Define callbacks\n",
        "callbacks = [\n",
        "    # Stop training if validation loss dont improve for 3 consecutive epochs\n",
        "    EarlyStopping(monitor='val_loss', patience=3, verbose=1, restore_best_weights=True),\n",
        "    # If model improves at the end of epoch, it is saved as best model\n",
        "    ModelCheckpoint('/content/drive/MyDrive/Colab Notebooks/best_LSTMVFinal.keras', monitor='val_loss', save_best_only=True, verbose=1)\n",
        "]\n",
        "\n",
        "# Fit the model\n",
        "history_2_0 = double_layer_lstm_model.fit(train_texts, train_labels, epochs=100, batch_size=128, validation_split=0.2, callbacks=callbacks)"
      ],
      "metadata": {
        "id": "1FcINdQsSVRY",
        "colab": {
          "base_uri": "https://localhost:8080/"
        },
        "outputId": "b8f657eb-9b41-4f14-ce04-363b750561ef"
      },
      "execution_count": 23,
      "outputs": [
        {
          "output_type": "stream",
          "name": "stdout",
          "text": [
            "Epoch 1/100\n",
            "1160/1161 [============================>.] - ETA: 0s - loss: 0.5660 - accuracy: 0.6841\n",
            "Epoch 1: val_loss improved from inf to 0.33107, saving model to /content/drive/MyDrive/Colab Notebooks/best_LSTMVFinal.keras\n",
            "1161/1161 [==============================] - 48s 37ms/step - loss: 0.5659 - accuracy: 0.6842 - val_loss: 0.3311 - val_accuracy: 0.8768\n",
            "Epoch 2/100\n",
            "1161/1161 [==============================] - ETA: 0s - loss: 0.2804 - accuracy: 0.8927\n",
            "Epoch 2: val_loss improved from 0.33107 to 0.23980, saving model to /content/drive/MyDrive/Colab Notebooks/best_LSTMVFinal.keras\n",
            "1161/1161 [==============================] - 40s 34ms/step - loss: 0.2804 - accuracy: 0.8927 - val_loss: 0.2398 - val_accuracy: 0.9093\n",
            "Epoch 3/100\n",
            "1161/1161 [==============================] - ETA: 0s - loss: 0.2351 - accuracy: 0.9126\n",
            "Epoch 3: val_loss improved from 0.23980 to 0.21761, saving model to /content/drive/MyDrive/Colab Notebooks/best_LSTMVFinal.keras\n",
            "1161/1161 [==============================] - 40s 35ms/step - loss: 0.2351 - accuracy: 0.9126 - val_loss: 0.2176 - val_accuracy: 0.9190\n",
            "Epoch 4/100\n",
            "1160/1161 [============================>.] - ETA: 0s - loss: 0.2191 - accuracy: 0.9193\n",
            "Epoch 4: val_loss did not improve from 0.21761\n",
            "1161/1161 [==============================] - 41s 35ms/step - loss: 0.2191 - accuracy: 0.9193 - val_loss: 0.3753 - val_accuracy: 0.8195\n",
            "Epoch 5/100\n",
            "1161/1161 [==============================] - ETA: 0s - loss: 0.2069 - accuracy: 0.9231\n",
            "Epoch 5: val_loss improved from 0.21761 to 0.20018, saving model to /content/drive/MyDrive/Colab Notebooks/best_LSTMVFinal.keras\n",
            "1161/1161 [==============================] - 40s 35ms/step - loss: 0.2069 - accuracy: 0.9231 - val_loss: 0.2002 - val_accuracy: 0.9263\n",
            "Epoch 6/100\n",
            "1161/1161 [==============================] - ETA: 0s - loss: 0.1976 - accuracy: 0.9265\n",
            "Epoch 6: val_loss did not improve from 0.20018\n",
            "1161/1161 [==============================] - 38s 33ms/step - loss: 0.1976 - accuracy: 0.9265 - val_loss: 0.2053 - val_accuracy: 0.9218\n",
            "Epoch 7/100\n",
            "1161/1161 [==============================] - ETA: 0s - loss: 0.1885 - accuracy: 0.9302\n",
            "Epoch 7: val_loss did not improve from 0.20018\n",
            "1161/1161 [==============================] - 41s 35ms/step - loss: 0.1885 - accuracy: 0.9302 - val_loss: 0.2556 - val_accuracy: 0.9060\n",
            "Epoch 8/100\n",
            "1161/1161 [==============================] - ETA: 0s - loss: 0.1818 - accuracy: 0.9325\n",
            "Epoch 8: val_loss improved from 0.20018 to 0.19666, saving model to /content/drive/MyDrive/Colab Notebooks/best_LSTMVFinal.keras\n",
            "1161/1161 [==============================] - 39s 33ms/step - loss: 0.1818 - accuracy: 0.9325 - val_loss: 0.1967 - val_accuracy: 0.9290\n",
            "Epoch 9/100\n",
            "1161/1161 [==============================] - ETA: 0s - loss: 0.1742 - accuracy: 0.9362\n",
            "Epoch 9: val_loss did not improve from 0.19666\n",
            "1161/1161 [==============================] - 39s 34ms/step - loss: 0.1742 - accuracy: 0.9362 - val_loss: 0.1972 - val_accuracy: 0.9298\n",
            "Epoch 10/100\n",
            "1161/1161 [==============================] - ETA: 0s - loss: 0.1669 - accuracy: 0.9387\n",
            "Epoch 10: val_loss improved from 0.19666 to 0.18716, saving model to /content/drive/MyDrive/Colab Notebooks/best_LSTMVFinal.keras\n",
            "1161/1161 [==============================] - 41s 35ms/step - loss: 0.1669 - accuracy: 0.9387 - val_loss: 0.1872 - val_accuracy: 0.9307\n",
            "Epoch 11/100\n",
            "1160/1161 [============================>.] - ETA: 0s - loss: 0.1598 - accuracy: 0.9418\n",
            "Epoch 11: val_loss did not improve from 0.18716\n",
            "1161/1161 [==============================] - 41s 35ms/step - loss: 0.1598 - accuracy: 0.9418 - val_loss: 0.1945 - val_accuracy: 0.9300\n",
            "Epoch 12/100\n",
            "1160/1161 [============================>.] - ETA: 0s - loss: 0.1550 - accuracy: 0.9435\n",
            "Epoch 12: val_loss did not improve from 0.18716\n",
            "1161/1161 [==============================] - 39s 34ms/step - loss: 0.1550 - accuracy: 0.9435 - val_loss: 0.2025 - val_accuracy: 0.9277\n",
            "Epoch 13/100\n",
            "1161/1161 [==============================] - ETA: 0s - loss: 0.1459 - accuracy: 0.9472Restoring model weights from the end of the best epoch: 10.\n",
            "\n",
            "Epoch 13: val_loss did not improve from 0.18716\n",
            "1161/1161 [==============================] - 39s 33ms/step - loss: 0.1459 - accuracy: 0.9472 - val_loss: 0.1935 - val_accuracy: 0.9295\n",
            "Epoch 13: early stopping\n"
          ]
        }
      ]
    },
    {
      "cell_type": "markdown",
      "source": [
        "Building Bidirectional LSTM"
      ],
      "metadata": {
        "id": "a0fiIRCkS43K"
      }
    },
    {
      "cell_type": "code",
      "execution_count": 26,
      "metadata": {
        "id": "8d8GGtNDcOcR"
      },
      "outputs": [],
      "source": [
        "double_bi_lstm_model = Sequential([\n",
        "    #Embedding Layer\n",
        "    Embedding(input_dim=vocab_length,output_dim= embedding_dim,weights=[embedding_matrix],  input_length=250, trainable=False),\n",
        "\n",
        "    #1st Bidirectional LSTM Layer\n",
        "    Bidirectional(LSTM(128, return_sequences=True)),#Default tanh activation function\n",
        "    Dropout(0.2), # Prevent overfitting\n",
        "    BatchNormalization(),\n",
        "\n",
        "    #2nd Bi LSTM Layer\n",
        "    Bidirectional(LSTM(32, return_sequences=False)),\n",
        "    Dropout(0.2),\n",
        "    BatchNormalization(),\n",
        "\n",
        "    Dense(1, activation='sigmoid')\n",
        "])\n",
        "  # compile model\n",
        "double_bi_lstm_model.compile(loss='binary_crossentropy',\n",
        "                optimizer='adam',\n",
        "                metrics=['accuracy'])\n"
      ]
    },
    {
      "cell_type": "markdown",
      "source": [
        "Training Bidirectional LSTM"
      ],
      "metadata": {
        "id": "sHxyK0_ybtjz"
      }
    },
    {
      "cell_type": "code",
      "source": [
        "from keras.callbacks import ModelCheckpoint, EarlyStopping, ReduceLROnPlateau\n",
        "\n",
        "\n",
        "# Define callbacks\n",
        "callbacks = [\n",
        "    EarlyStopping(monitor='val_loss', patience=4, verbose=1, restore_best_weights=True),\n",
        "    ReduceLROnPlateau(monitor='val_loss', factor=0.1, patience=3, verbose=1,min_lr=0.0001),\n",
        "    ModelCheckpoint('/content/drive/MyDrive/Colab Notebooks/best_modelDoubleBiLstmV7.2.keras', monitor='val_loss', save_best_only=True, verbose=1)\n",
        "]\n",
        "\n",
        "history3 = double_bi_lstm_model.fit(train_texts, train_labels,\n",
        "                    batch_size=128,\n",
        "                    epochs=100, verbose=1,\n",
        "                    validation_split=0.2,callbacks=callbacks\n",
        "                    )"
      ],
      "metadata": {
        "colab": {
          "base_uri": "https://localhost:8080/"
        },
        "id": "UR1m5KezGo07",
        "outputId": "d6786432-6305-459e-8d22-8eaa8c3656ed"
      },
      "execution_count": 27,
      "outputs": [
        {
          "output_type": "stream",
          "name": "stdout",
          "text": [
            "Epoch 1/100\n",
            "1160/1161 [============================>.] - ETA: 0s - loss: 0.2783 - accuracy: 0.8887\n",
            "Epoch 1: val_loss improved from inf to 0.23949, saving model to /content/drive/MyDrive/Colab Notebooks/best_modelDoubleBiLstmV7.2.keras\n",
            "1161/1161 [==============================] - 85s 66ms/step - loss: 0.2783 - accuracy: 0.8887 - val_loss: 0.2395 - val_accuracy: 0.9064 - lr: 0.0010\n",
            "Epoch 2/100\n",
            "1161/1161 [==============================] - ETA: 0s - loss: 0.2194 - accuracy: 0.9156\n",
            "Epoch 2: val_loss improved from 0.23949 to 0.20484, saving model to /content/drive/MyDrive/Colab Notebooks/best_modelDoubleBiLstmV7.2.keras\n",
            "1161/1161 [==============================] - 81s 70ms/step - loss: 0.2194 - accuracy: 0.9156 - val_loss: 0.2048 - val_accuracy: 0.9225 - lr: 0.0010\n",
            "Epoch 3/100\n",
            "1160/1161 [============================>.] - ETA: 0s - loss: 0.2004 - accuracy: 0.9235\n",
            "Epoch 3: val_loss improved from 0.20484 to 0.19666, saving model to /content/drive/MyDrive/Colab Notebooks/best_modelDoubleBiLstmV7.2.keras\n",
            "1161/1161 [==============================] - 77s 66ms/step - loss: 0.2004 - accuracy: 0.9234 - val_loss: 0.1967 - val_accuracy: 0.9260 - lr: 0.0010\n",
            "Epoch 4/100\n",
            "1161/1161 [==============================] - ETA: 0s - loss: 0.1893 - accuracy: 0.9281\n",
            "Epoch 4: val_loss did not improve from 0.19666\n",
            "1161/1161 [==============================] - 81s 70ms/step - loss: 0.1893 - accuracy: 0.9281 - val_loss: 0.1986 - val_accuracy: 0.9257 - lr: 0.0010\n",
            "Epoch 5/100\n",
            "1160/1161 [============================>.] - ETA: 0s - loss: 0.1807 - accuracy: 0.9320\n",
            "Epoch 5: val_loss did not improve from 0.19666\n",
            "1161/1161 [==============================] - 83s 71ms/step - loss: 0.1807 - accuracy: 0.9320 - val_loss: 0.2050 - val_accuracy: 0.9217 - lr: 0.0010\n",
            "Epoch 6/100\n",
            "1160/1161 [============================>.] - ETA: 0s - loss: 0.1708 - accuracy: 0.9357\n",
            "Epoch 6: ReduceLROnPlateau reducing learning rate to 0.00010000000474974513.\n",
            "\n",
            "Epoch 6: val_loss did not improve from 0.19666\n",
            "1161/1161 [==============================] - 87s 75ms/step - loss: 0.1708 - accuracy: 0.9357 - val_loss: 0.2179 - val_accuracy: 0.9207 - lr: 0.0010\n",
            "Epoch 7/100\n",
            "1161/1161 [==============================] - ETA: 0s - loss: 0.1516 - accuracy: 0.9434\n",
            "Epoch 7: val_loss improved from 0.19666 to 0.18212, saving model to /content/drive/MyDrive/Colab Notebooks/best_modelDoubleBiLstmV7.2.keras\n",
            "1161/1161 [==============================] - 81s 70ms/step - loss: 0.1516 - accuracy: 0.9434 - val_loss: 0.1821 - val_accuracy: 0.9328 - lr: 1.0000e-04\n",
            "Epoch 8/100\n",
            "1160/1161 [============================>.] - ETA: 0s - loss: 0.1464 - accuracy: 0.9459\n",
            "Epoch 8: val_loss improved from 0.18212 to 0.18187, saving model to /content/drive/MyDrive/Colab Notebooks/best_modelDoubleBiLstmV7.2.keras\n",
            "1161/1161 [==============================] - 87s 75ms/step - loss: 0.1465 - accuracy: 0.9459 - val_loss: 0.1819 - val_accuracy: 0.9339 - lr: 1.0000e-04\n",
            "Epoch 9/100\n",
            "1160/1161 [============================>.] - ETA: 0s - loss: 0.1435 - accuracy: 0.9468\n",
            "Epoch 9: val_loss did not improve from 0.18187\n",
            "1161/1161 [==============================] - 80s 69ms/step - loss: 0.1435 - accuracy: 0.9468 - val_loss: 0.1829 - val_accuracy: 0.9343 - lr: 1.0000e-04\n",
            "Epoch 10/100\n",
            "1160/1161 [============================>.] - ETA: 0s - loss: 0.1401 - accuracy: 0.9484\n",
            "Epoch 10: val_loss did not improve from 0.18187\n",
            "1161/1161 [==============================] - 80s 69ms/step - loss: 0.1401 - accuracy: 0.9484 - val_loss: 0.1856 - val_accuracy: 0.9344 - lr: 1.0000e-04\n",
            "Epoch 11/100\n",
            "1160/1161 [============================>.] - ETA: 0s - loss: 0.1380 - accuracy: 0.9484\n",
            "Epoch 11: ReduceLROnPlateau reducing learning rate to 0.0001.\n",
            "\n",
            "Epoch 11: val_loss did not improve from 0.18187\n",
            "1161/1161 [==============================] - 80s 69ms/step - loss: 0.1380 - accuracy: 0.9484 - val_loss: 0.1878 - val_accuracy: 0.9334 - lr: 1.0000e-04\n",
            "Epoch 12/100\n",
            "1160/1161 [============================>.] - ETA: 0s - loss: 0.1350 - accuracy: 0.9499Restoring model weights from the end of the best epoch: 8.\n",
            "\n",
            "Epoch 12: val_loss did not improve from 0.18187\n",
            "1161/1161 [==============================] - 76s 66ms/step - loss: 0.1350 - accuracy: 0.9499 - val_loss: 0.1892 - val_accuracy: 0.9326 - lr: 1.0000e-04\n",
            "Epoch 12: early stopping\n"
          ]
        }
      ]
    },
    {
      "cell_type": "markdown",
      "source": [
        "Buiiding Concurrent Double Layer Bi LSTM"
      ],
      "metadata": {
        "id": "AnH5W_DdafFt"
      }
    },
    {
      "cell_type": "code",
      "source": [
        "\n",
        "\n",
        "# Define the model\n",
        "clstm_model = Sequential()\n",
        "\n",
        "# Embedding layer\n",
        "clstm_model.add(Embedding(input_dim=vocab_length,output_dim= embedding_dim,weights=[embedding_matrix], input_length=250, trainable=False))\n",
        "\n",
        "# Convolutional layer\n",
        "clstm_model.add(Conv1D(filters=128, kernel_size=3, activation='relu'))\n",
        "clstm_model.add(MaxPooling1D(pool_size=2))\n",
        "\n",
        "clstm_model.add(Dropout(0.5))  #Can add batch normalisation\n",
        "BatchNormalization(),\n",
        "# First LSTM layer\n",
        "clstm_model.add(Bidirectional(LSTM(128, return_sequences=True)))\n",
        "\n",
        "clstm_model.add(Dropout(0.2))\n",
        "BatchNormalization(),\n",
        "# Second LSTM layer\n",
        "clstm_model.add(Bidirectional(LSTM(32)))\n",
        "\n",
        "clstm_model.add(Dropout(0.2))  # Added dropout after the second LSTM layer\n",
        "BatchNormalization(),\n",
        "# Fully connected layers\n",
        "\n",
        "clstm_model.add(Dense(1, activation='sigmoid'))  #\n",
        "\n",
        "# Compile the model\n",
        "clstm_model.compile(loss='binary_crossentropy', optimizer='adam', metrics=['accuracy'])\n",
        "# Summary of the model\n",
        "clstm_model.summary()\n",
        "\n",
        "\n"
      ],
      "metadata": {
        "colab": {
          "base_uri": "https://localhost:8080/"
        },
        "id": "ICOgKptwidsL",
        "outputId": "8d3df355-cd04-4db8-ddbc-05ced4694490"
      },
      "execution_count": 16,
      "outputs": [
        {
          "output_type": "stream",
          "name": "stdout",
          "text": [
            "Model: \"sequential\"\n",
            "_________________________________________________________________\n",
            " Layer (type)                Output Shape              Param #   \n",
            "=================================================================\n",
            " embedding (Embedding)       (None, 250, 100)          2384300   \n",
            "                                                                 \n",
            " conv1d (Conv1D)             (None, 248, 128)          38528     \n",
            "                                                                 \n",
            " max_pooling1d (MaxPooling1  (None, 124, 128)          0         \n",
            " D)                                                              \n",
            "                                                                 \n",
            " dropout (Dropout)           (None, 124, 128)          0         \n",
            "                                                                 \n",
            " bidirectional (Bidirection  (None, 124, 256)          263168    \n",
            " al)                                                             \n",
            "                                                                 \n",
            " dropout_1 (Dropout)         (None, 124, 256)          0         \n",
            "                                                                 \n",
            " bidirectional_1 (Bidirecti  (None, 64)                73984     \n",
            " onal)                                                           \n",
            "                                                                 \n",
            " dropout_2 (Dropout)         (None, 64)                0         \n",
            "                                                                 \n",
            " dense (Dense)               (None, 1)                 65        \n",
            "                                                                 \n",
            "=================================================================\n",
            "Total params: 2760045 (10.53 MB)\n",
            "Trainable params: 375745 (1.43 MB)\n",
            "Non-trainable params: 2384300 (9.10 MB)\n",
            "_________________________________________________________________\n"
          ]
        }
      ]
    },
    {
      "cell_type": "markdown",
      "source": [
        "Builidng Concurrent Double Layer Bi LSTM"
      ],
      "metadata": {
        "id": "FS2sWBPdbphd"
      }
    },
    {
      "cell_type": "code",
      "source": [
        "# Callbacks\n",
        "callbacks = [\n",
        "    EarlyStopping(monitor='val_loss', patience=4, verbose=1),\n",
        "    ReduceLROnPlateau(monitor='val_loss', factor=0.1, patience=3, verbose=1),\n",
        "    ModelCheckpoint('/content/drive/MyDrive/Colab Notebooks/bestCLSTM_modelVFinal.keras', monitor='val_loss', save_best_only=True, verbose=1)\n",
        "]\n",
        "\n",
        "# Fit the model\n",
        "history_4 = clstm_model.fit(train_texts, train_labels, epochs=50, batch_size=128, validation_split=0.2, callbacks=callbacks)"
      ],
      "metadata": {
        "colab": {
          "base_uri": "https://localhost:8080/"
        },
        "id": "ZcWnucyi9vEJ",
        "outputId": "4e572bcb-9f4f-4021-d3b0-ebf3459a506d"
      },
      "execution_count": 17,
      "outputs": [
        {
          "output_type": "stream",
          "name": "stdout",
          "text": [
            "Epoch 1/50\n",
            "1161/1161 [==============================] - ETA: 0s - loss: 0.2821 - accuracy: 0.8869\n",
            "Epoch 1: val_loss improved from inf to 0.22727, saving model to /content/drive/MyDrive/Colab Notebooks/bestCLSTM_modelVFinal.keras\n",
            "1161/1161 [==============================] - 59s 41ms/step - loss: 0.2821 - accuracy: 0.8869 - val_loss: 0.2273 - val_accuracy: 0.9143 - lr: 0.0010\n",
            "Epoch 2/50\n",
            "1160/1161 [============================>.] - ETA: 0s - loss: 0.2287 - accuracy: 0.9122\n",
            "Epoch 2: val_loss improved from 0.22727 to 0.21293, saving model to /content/drive/MyDrive/Colab Notebooks/bestCLSTM_modelVFinal.keras\n",
            "1161/1161 [==============================] - 51s 44ms/step - loss: 0.2288 - accuracy: 0.9122 - val_loss: 0.2129 - val_accuracy: 0.9209 - lr: 0.0010\n",
            "Epoch 3/50\n",
            "1161/1161 [==============================] - ETA: 0s - loss: 0.2131 - accuracy: 0.9188\n",
            "Epoch 3: val_loss improved from 0.21293 to 0.20374, saving model to /content/drive/MyDrive/Colab Notebooks/bestCLSTM_modelVFinal.keras\n",
            "1161/1161 [==============================] - 44s 38ms/step - loss: 0.2131 - accuracy: 0.9188 - val_loss: 0.2037 - val_accuracy: 0.9227 - lr: 0.0010\n",
            "Epoch 4/50\n",
            "1160/1161 [============================>.] - ETA: 0s - loss: 0.2038 - accuracy: 0.9224\n",
            "Epoch 4: val_loss improved from 0.20374 to 0.19713, saving model to /content/drive/MyDrive/Colab Notebooks/bestCLSTM_modelVFinal.keras\n",
            "1161/1161 [==============================] - 45s 39ms/step - loss: 0.2038 - accuracy: 0.9224 - val_loss: 0.1971 - val_accuracy: 0.9255 - lr: 0.0010\n",
            "Epoch 5/50\n",
            "1160/1161 [============================>.] - ETA: 0s - loss: 0.1963 - accuracy: 0.9255\n",
            "Epoch 5: val_loss did not improve from 0.19713\n",
            "1161/1161 [==============================] - 45s 39ms/step - loss: 0.1964 - accuracy: 0.9255 - val_loss: 0.2134 - val_accuracy: 0.9193 - lr: 0.0010\n",
            "Epoch 6/50\n",
            "1160/1161 [============================>.] - ETA: 0s - loss: 0.1905 - accuracy: 0.9274\n",
            "Epoch 6: val_loss improved from 0.19713 to 0.19267, saving model to /content/drive/MyDrive/Colab Notebooks/bestCLSTM_modelVFinal.keras\n",
            "1161/1161 [==============================] - 45s 39ms/step - loss: 0.1905 - accuracy: 0.9274 - val_loss: 0.1927 - val_accuracy: 0.9273 - lr: 0.0010\n",
            "Epoch 7/50\n",
            "1160/1161 [============================>.] - ETA: 0s - loss: 0.1865 - accuracy: 0.9295\n",
            "Epoch 7: val_loss did not improve from 0.19267\n",
            "1161/1161 [==============================] - 45s 39ms/step - loss: 0.1865 - accuracy: 0.9294 - val_loss: 0.1940 - val_accuracy: 0.9269 - lr: 0.0010\n",
            "Epoch 8/50\n",
            "1161/1161 [==============================] - ETA: 0s - loss: 0.1827 - accuracy: 0.9312\n",
            "Epoch 8: val_loss did not improve from 0.19267\n",
            "1161/1161 [==============================] - 44s 38ms/step - loss: 0.1827 - accuracy: 0.9312 - val_loss: 0.2092 - val_accuracy: 0.9210 - lr: 0.0010\n",
            "Epoch 9/50\n",
            "1160/1161 [============================>.] - ETA: 0s - loss: 0.1772 - accuracy: 0.9334\n",
            "Epoch 9: ReduceLROnPlateau reducing learning rate to 0.00010000000474974513.\n",
            "\n",
            "Epoch 9: val_loss did not improve from 0.19267\n",
            "1161/1161 [==============================] - 45s 38ms/step - loss: 0.1772 - accuracy: 0.9334 - val_loss: 0.1965 - val_accuracy: 0.9266 - lr: 0.0010\n",
            "Epoch 10/50\n",
            "1161/1161 [==============================] - ETA: 0s - loss: 0.1632 - accuracy: 0.9384\n",
            "Epoch 10: val_loss improved from 0.19267 to 0.19008, saving model to /content/drive/MyDrive/Colab Notebooks/bestCLSTM_modelVFinal.keras\n",
            "1161/1161 [==============================] - 45s 39ms/step - loss: 0.1632 - accuracy: 0.9384 - val_loss: 0.1901 - val_accuracy: 0.9288 - lr: 1.0000e-04\n",
            "Epoch 11/50\n",
            "1161/1161 [==============================] - ETA: 0s - loss: 0.1598 - accuracy: 0.9392\n",
            "Epoch 11: val_loss did not improve from 0.19008\n",
            "1161/1161 [==============================] - 44s 38ms/step - loss: 0.1598 - accuracy: 0.9392 - val_loss: 0.1902 - val_accuracy: 0.9296 - lr: 1.0000e-04\n",
            "Epoch 12/50\n",
            "1161/1161 [==============================] - ETA: 0s - loss: 0.1578 - accuracy: 0.9406\n",
            "Epoch 12: val_loss did not improve from 0.19008\n",
            "1161/1161 [==============================] - 43s 37ms/step - loss: 0.1578 - accuracy: 0.9406 - val_loss: 0.1919 - val_accuracy: 0.9292 - lr: 1.0000e-04\n",
            "Epoch 13/50\n",
            "1161/1161 [==============================] - ETA: 0s - loss: 0.1561 - accuracy: 0.9413\n",
            "Epoch 13: ReduceLROnPlateau reducing learning rate to 1.0000000474974514e-05.\n",
            "\n",
            "Epoch 13: val_loss did not improve from 0.19008\n",
            "1161/1161 [==============================] - 44s 38ms/step - loss: 0.1561 - accuracy: 0.9413 - val_loss: 0.1923 - val_accuracy: 0.9294 - lr: 1.0000e-04\n",
            "Epoch 14/50\n",
            "1160/1161 [============================>.] - ETA: 0s - loss: 0.1538 - accuracy: 0.9417\n",
            "Epoch 14: val_loss did not improve from 0.19008\n",
            "1161/1161 [==============================] - 44s 38ms/step - loss: 0.1538 - accuracy: 0.9417 - val_loss: 0.1917 - val_accuracy: 0.9299 - lr: 1.0000e-05\n",
            "Epoch 14: early stopping\n"
          ]
        }
      ]
    },
    {
      "cell_type": "markdown",
      "source": [
        "## **Evaluation**"
      ],
      "metadata": {
        "id": "tcFPG1XGXE3L"
      }
    },
    {
      "cell_type": "markdown",
      "source": [
        "Calculation of TP,TN,FP,FN"
      ],
      "metadata": {
        "id": "_LOyBL3rXmf-"
      }
    },
    {
      "cell_type": "code",
      "execution_count": 20,
      "metadata": {
        "id": "swInZTVsOwj_"
      },
      "outputs": [],
      "source": [
        "def perf_measure(y_actual, y_hat):\n",
        "    global TP\n",
        "    global FP\n",
        "    global TN\n",
        "    global FN\n",
        "    TP = 0\n",
        "    FP = 0\n",
        "    TN = 0\n",
        "    FN = 0\n",
        "\n",
        "    for i in range(len(y_hat)):\n",
        "        if y_actual[i]==y_hat[i]==1:\n",
        "           TP += 1\n",
        "        if y_hat[i]==1 and y_actual[i]!=y_hat[i]:\n",
        "           FP += 1\n",
        "        if y_actual[i]==y_hat[i]==0:\n",
        "           TN += 1\n",
        "        if y_hat[i]==0 and y_actual[i]!=y_hat[i]:\n",
        "           FN += 1\n",
        "\n",
        "    return(TP, FP, TN, FN)"
      ]
    },
    {
      "cell_type": "markdown",
      "source": [
        "**Evaluation of LSTM**"
      ],
      "metadata": {
        "id": "8-SJXnsvbCYd"
      }
    },
    {
      "cell_type": "code",
      "source": [
        "# Evaluation of LSTM\n",
        "loaded_lstm_model=keras.models.load_model(\"/content/drive/MyDrive/Colab Notebooks/best_LSTMVFinal.keras\")\n",
        "loss, accuracy = loaded_lstm_model.evaluate(test_texts, test_labels, verbose=1)\n",
        "print(f'Test Accuracy: {accuracy * 100:.2f}%')\n",
        "\n",
        "# Make predictions\n",
        "predictions = loaded_lstm_model.predict(test_texts)\n",
        "lstm_y_hat = (predictions > 0.5).astype(\"int32\")  # For binary classification\n",
        "\n",
        "# Display the results\n",
        "from sklearn.metrics import classification_report\n",
        "print(classification_report(test_labels, lstm_y_hat))\n",
        "perf_measure(test_labels,lstm_y_hat)\n",
        "\n",
        "lstm_conf_matrix = confusion_matrix(test_labels,lstm_y_hat)\n",
        "\n",
        "# hsv_modified = cm.get_cmap('hsv', 256) //// old version\n",
        "hsv_modified=colormaps.get_cmap('hsv')\n",
        "\n",
        "color_lstm = ListedColormap(hsv_modified(np.linspace(0.5, 1, 256)))\n",
        "\n",
        "fig1, ax1 = plt.subplots(figsize=(5,5))\n",
        "\n",
        "ax1.matshow(lstm_conf_matrix, cmap=color_lstm, alpha=1)\n",
        "\n",
        "for i in range(lstm_conf_matrix.shape[0]):\n",
        "    for j in range(lstm_conf_matrix.shape[1]):\n",
        "        ax1.text(x=j, y=i,s=lstm_conf_matrix[i, j], va='center', ha='center', size='xx-large')\n",
        "\n",
        "\n",
        "print(\"Double Layer LSTM Evaluation results : \\n\")\n",
        "print(f\"Accuracy - {(accuracy_score(test_labels,lstm_y_hat)):.2f}\")\n",
        "print(f\"Recall score - {(recall_score(test_labels,lstm_y_hat,pos_label=1)):.2f}\")\n",
        "print(f\"Specificity - {(recall_score(test_labels,lstm_y_hat,pos_label=0)):.2f}\")\n",
        "print(f\"Precision score - {(precision_score(test_labels,lstm_y_hat)):.2f}\" )\n",
        "print(f\"f1_score - {(f1_score(test_labels,lstm_y_hat)):.2f}\")\n",
        "print(f\"False Positive Rate  - {(FP / (FP+TN)):.2f}\")\n",
        "print(f\"False Negative Rate  - {(FN / (TP+FN)):.2f} \\n\\n\")\n",
        "\n",
        "plt.xlabel('Predictions', fontsize=15)\n",
        "plt.ylabel('Actuals', fontsize=15)\n",
        "plt.title('Confusion Matrix', fontsize=20)\n",
        "plt.show()"
      ],
      "metadata": {
        "colab": {
          "base_uri": "https://localhost:8080/",
          "height": 905
        },
        "id": "NAG7NvwN_7DE",
        "outputId": "857846d4-0d22-4dba-e7fc-be2ba7058a8f"
      },
      "execution_count": 29,
      "outputs": [
        {
          "output_type": "stream",
          "name": "stdout",
          "text": [
            "1451/1451 [==============================] - 16s 9ms/step - loss: 0.1835 - accuracy: 0.9305\n",
            "Test Accuracy: 93.05%\n",
            "1451/1451 [==============================] - 12s 8ms/step\n",
            "              precision    recall  f1-score   support\n",
            "\n",
            "           0       0.92      0.94      0.93     23207\n",
            "           1       0.94      0.92      0.93     23208\n",
            "\n",
            "    accuracy                           0.93     46415\n",
            "   macro avg       0.93      0.93      0.93     46415\n",
            "weighted avg       0.93      0.93      0.93     46415\n",
            "\n",
            "Double Layer LSTM Evaluation results : \n",
            "\n",
            "Accuracy - 0.93\n",
            "Recall score - 0.92\n",
            "Specificity - 0.94\n",
            "Precision score - 0.94\n",
            "f1_score - 0.93\n",
            "False Positive Rate  - 0.06\n",
            "False Negative Rate  - 0.08 \n",
            "\n",
            "\n"
          ]
        },
        {
          "output_type": "display_data",
          "data": {
            "text/plain": [
              "<Figure size 500x500 with 1 Axes>"
            ],
            "image/png": "[encoded data removed]"
          },
          "metadata": {}
        }
      ]
    },
    {
      "cell_type": "markdown",
      "source": [
        "**Evaluation of Bidirectional LSTM**"
      ],
      "metadata": {
        "id": "oKpMNEOybP_n"
      }
    },
    {
      "cell_type": "code",
      "source": [
        "# EvaluaTION OF BiLstm\n",
        "loaded_bi_lstm_model=keras.models.load_model(\"//content/drive/MyDrive/Colab Notebooks/best_modelDoubleBiLstmV7.2.keras\")\n",
        "loss, accuracy = loaded_bi_lstm_model.evaluate(test_texts, test_labels, verbose=1)\n",
        "print(f'Test Accuracy: {accuracy * 100:.2f}%')\n",
        "\n",
        "# Make predicti\n",
        "predictions = loaded_bi_lstm_model.predict(test_texts)\n",
        "bilstm_y_hat = (predictions > 0.5).astype(\"int32\")  # For binary classification\n",
        "\n",
        "# Display the results\n",
        "from sklearn.metrics import classification_report\n",
        "print(classification_report(test_labels, bilstm_y_hat))\n",
        "perf_measure(test_labels,bilstm_y_hat)\n",
        "\n",
        "bilstm_conf_matrix = confusion_matrix(test_labels,bilstm_y_hat)\n",
        "\n",
        "# hsv_modified = cm.get_cmap('hsv', 256) //// old version\n",
        "hsv_modified=colormaps.get_cmap('hsv')\n",
        "\n",
        "color_bilstm = ListedColormap(hsv_modified(np.linspace(0.5, 1, 256)))\n",
        "\n",
        "fig1, ax1 = plt.subplots(figsize=(5,5))\n",
        "\n",
        "ax1.matshow(bilstm_conf_matrix, cmap=color_bilstm, alpha=1)\n",
        "\n",
        "for i in range(bilstm_conf_matrix.shape[0]):\n",
        "    for j in range(bilstm_conf_matrix.shape[1]):\n",
        "        ax1.text(x=j, y=i,s=bilstm_conf_matrix[i, j], va='center', ha='center', size='xx-large')\n",
        "\n",
        "\n",
        "print(\"Logistic Regression Evaluation results : \\n\")\n",
        "print(f\"Accuracy - {(accuracy_score(test_labels,bilstm_y_hat)):.2f}\")\n",
        "print(f\"Recall score - {(recall_score(test_labels,bilstm_y_hat,pos_label=1)):.2f}\")\n",
        "print(f\"Specificity - {(recall_score(test_labels,bilstm_y_hat,pos_label=0)):.2f}\")\n",
        "print(f\"Precision score - {(precision_score(test_labels,bilstm_y_hat)):.2f}\" )\n",
        "print(f\"f1_score - {(f1_score(test_labels,bilstm_y_hat)):.2f}\")\n",
        "print(f\"False Positive Rate  - {(FP / (FP+TN)):.2f}\")\n",
        "print(f\"False Negetive Rate  - {(FN / (TP+FN)):.2f} \\n\\n\")\n",
        "\n",
        "plt.xlabel('Predictions', fontsize=15)\n",
        "plt.ylabel('Actuals', fontsize=15)\n",
        "plt.title('Confusion Matrix', fontsize=20)\n",
        "plt.show()"
      ],
      "metadata": {
        "id": "zkWiPQuSIef0",
        "colab": {
          "base_uri": "https://localhost:8080/",
          "height": 905
        },
        "outputId": "546dc04a-2c8d-4996-acc3-640cd0ecf773"
      },
      "execution_count": 28,
      "outputs": [
        {
          "output_type": "stream",
          "name": "stdout",
          "text": [
            "1451/1451 [==============================] - 25s 15ms/step - loss: 0.1742 - accuracy: 0.9354\n",
            "Test Accuracy: 93.54%\n",
            "1451/1451 [==============================] - 22s 14ms/step\n",
            "              precision    recall  f1-score   support\n",
            "\n",
            "           0       0.94      0.93      0.94     23207\n",
            "           1       0.93      0.94      0.94     23208\n",
            "\n",
            "    accuracy                           0.94     46415\n",
            "   macro avg       0.94      0.94      0.94     46415\n",
            "weighted avg       0.94      0.94      0.94     46415\n",
            "\n",
            "Logistic Regression Evaluation results : \n",
            "\n",
            "Accuracy - 0.94\n",
            "Recall score - 0.94\n",
            "Specificity - 0.93\n",
            "Precision score - 0.93\n",
            "f1_score - 0.94\n",
            "False Positive Rate  - 0.07\n",
            "False Negetive Rate  - 0.06 \n",
            "\n",
            "\n"
          ]
        },
        {
          "output_type": "display_data",
          "data": {
            "text/plain": [
              "<Figure size 500x500 with 1 Axes>"
            ],
            "image/png": "[encoded data removed]"
          },
          "metadata": {}
        }
      ]
    },
    {
      "cell_type": "markdown",
      "source": [
        "**Evaluation of Concolutional Layered Bidirectional LSTM**"
      ],
      "metadata": {
        "id": "naafYKxabbpm"
      }
    },
    {
      "cell_type": "code",
      "source": [
        "# Evaluation of CLSTM\n",
        "loaded_clstm_model=keras.models.load_model(\"/content/drive/MyDrive/Colab Notebooks/bestCLSTM_modelVFinal.keras\")\n",
        "loss, accuracy = loaded_clstm_model.evaluate(test_texts, test_labels, verbose=1)\n",
        "print(f'Test Accuracy: {accuracy * 100:.2f}%')\n",
        "\n",
        "# Make predictions\n",
        "predictions = loaded_clstm_model.predict(test_texts)\n",
        "clstm_y_hat = (predictions > 0.5).astype(\"int32\")  # For binary classification\n",
        "\n",
        "# Display the results\n",
        "from sklearn.metrics import classification_report\n",
        "print(classification_report(test_labels, clstm_y_hat))\n",
        "perf_measure(test_labels,clstm_y_hat)\n",
        "\n",
        "clstm_conf_matrix = confusion_matrix(test_labels,clstm_y_hat)\n",
        "\n",
        "# hsv_modified = cm.get_cmap('hsv', 256) //// old version\n",
        "hsv_modified=colormaps.get_cmap('hsv')\n",
        "\n",
        "color_clstm = ListedColormap(hsv_modified(np.linspace(0.5, 1, 256)))\n",
        "\n",
        "fig1, ax1 = plt.subplots(figsize=(5,5))\n",
        "\n",
        "ax1.matshow(clstm_conf_matrix, cmap=color_clstm, alpha=1)\n",
        "\n",
        "for i in range(clstm_conf_matrix.shape[0]):\n",
        "    for j in range(clstm_conf_matrix.shape[1]):\n",
        "        ax1.text(x=j, y=i,s=clstm_conf_matrix[i, j], va='center', ha='center', size='xx-large')\n",
        "\n",
        "\n",
        "print(\"Convolutional Layer Double Layer Bi LSTM Evaluation results : \\n\")\n",
        "print(f\"Accuracy - {(accuracy_score(test_labels,clstm_y_hat)):.2f}\")\n",
        "print(f\"Recall score - {(recall_score(test_labels,clstm_y_hat,pos_label=1)):.2f}\")\n",
        "print(f\"Specificity - {(recall_score(test_labels,clstm_y_hat,pos_label=0)):.2f}\")\n",
        "print(f\"Precision score - {(precision_score(test_labels,clstm_y_hat)):.2f}\" )\n",
        "print(f\"f1_score - {(f1_score(test_labels,clstm_y_hat)):.2f}\")\n",
        "print(f\"False Positive Rate  - {(FP / (FP+TN)):.2f}\")\n",
        "print(f\"False Negative Rate  - {(FN / (TP+FN)):.2f} \\n\\n\")\n",
        "\n",
        "plt.xlabel('Predictions', fontsize=15)\n",
        "plt.ylabel('Actuals', fontsize=15)\n",
        "plt.title('Confusion Matrix', fontsize=20)\n",
        "plt.show()"
      ],
      "metadata": {
        "colab": {
          "base_uri": "https://localhost:8080/",
          "height": 905
        },
        "id": "lRQnEMRgTOwi",
        "outputId": "29b3a232-972e-4e95-8580-b1c15f4e986d"
      },
      "execution_count": 30,
      "outputs": [
        {
          "output_type": "stream",
          "name": "stdout",
          "text": [
            "1451/1451 [==============================] - 16s 10ms/step - loss: 0.1819 - accuracy: 0.9312\n",
            "Test Accuracy: 93.12%\n",
            "1451/1451 [==============================] - 14s 8ms/step\n",
            "              precision    recall  f1-score   support\n",
            "\n",
            "           0       0.93      0.94      0.93     23207\n",
            "           1       0.94      0.93      0.93     23208\n",
            "\n",
            "    accuracy                           0.93     46415\n",
            "   macro avg       0.93      0.93      0.93     46415\n",
            "weighted avg       0.93      0.93      0.93     46415\n",
            "\n",
            "Convolutional Layer Double Layer Bi LSTM Evaluation results : \n",
            "\n",
            "Accuracy - 0.93\n",
            "Recall score - 0.93\n",
            "Specificity - 0.94\n",
            "Precision score - 0.94\n",
            "f1_score - 0.93\n",
            "False Positive Rate  - 0.06\n",
            "False Negative Rate  - 0.07 \n",
            "\n",
            "\n"
          ]
        },
        {
          "output_type": "display_data",
          "data": {
            "text/plain": [
              "<Figure size 500x500 with 1 Axes>"
            ],
            "image/png": "[encoded data removed]"
          },
          "metadata": {}
        }
      ]
    }
  ],
  "metadata": {
    "colab": {
      "provenance": [],
      "gpuType": "T4"
    },
    "kernelspec": {
      "display_name": "Python 3",
      "name": "python3"
    },
    "language_info": {
      "name": "python"
    },
    "accelerator": "GPU"
  },
  "nbformat": 4,
  "nbformat_minor": 0
}